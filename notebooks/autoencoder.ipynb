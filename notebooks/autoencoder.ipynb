{
 "cells": [
  {
   "cell_type": "code",
   "execution_count": 1,
   "metadata": {},
   "outputs": [
    {
     "name": "stderr",
     "output_type": "stream",
     "text": [
      "/vol/paramonos2/projects/antoni/miniconda3/envs/svd/lib/python3.10/site-packages/tqdm/auto.py:21: TqdmWarning: IProgress not found. Please update jupyter and ipywidgets. See https://ipywidgets.readthedocs.io/en/stable/user_install.html\n",
      "  from .autonotebook import tqdm as notebook_tqdm\n"
     ]
    },
    {
     "name": "stdout",
     "output_type": "stream",
     "text": [
      "{'model': {'base_learning_rate': 3e-05, 'target': 'sgm.models.diffusion.DiffusionEngine', 'params': {'input_key': 'latents', 'no_log_keys': ['audio_emb', 'fps_id', 'motion_bucket_id', 'cond_aug'], 'scale_factor': 0.18215, 'disable_first_stage_autocast': True, 'ckpt_path': 'checkpoints/svd.safetensors', 'remove_keys_from_weights': ['model.diffusion_model.input_blocks.0.0.weight'], 'compile_model': False, 'scheduler_config': {'target': 'sgm.lr_scheduler.LambdaLinearScheduler', 'params': {'warm_up_steps': [1000], 'cycle_lengths': [10000000000000], 'f_start': [1e-06], 'f_max': [1.0], 'f_min': [1.0]}}, 'use_lora': False, 'lora_config': {'search_class_str': 'Linear', 'target_replace_module': None, 'r_linear': 16, 'r_conv': 16, 'loras': None}, 'denoiser_config': {'target': 'sgm.modules.diffusionmodules.denoiser.Denoiser', 'params': {'scaling_config': {'target': 'sgm.modules.diffusionmodules.denoiser_scaling.VScalingWithEDMcNoise'}}}, 'network_wrapper': {'target': 'sgm.modules.diffusionmodules.wrappers.InterpolationWrapper', 'params': {'im_size': [512, 512], 'n_channels': 4, 'starting_mask_method': 'zeros', 'add_mask': True}}, 'network_config': {'target': 'sgm.modules.diffusionmodules.video_model.VideoUNet', 'params': {'adm_in_channels': 768, 'num_classes': 'sequential', 'use_checkpoint': True, 'in_channels': 9, 'out_channels': 4, 'model_channels': 320, 'attention_resolutions': [4, 2, 1], 'num_res_blocks': 2, 'channel_mult': [1, 2, 4, 4], 'num_head_channels': 64, 'use_linear_in_transformer': True, 'transformer_depth': 1, 'context_dim': 1024, 'spatial_transformer_attn_type': 'softmax-xformers', 'extra_ff_mix_layer': True, 'use_spatial_context': True, 'merge_strategy': 'learned_with_images', 'video_kernel_size': [3, 1, 1], 'fine_tuning_method': None, 'audio_cond_method': 'cross_attention', 'unfreeze_blocks': ['input']}}, 'conditioner_config': {'target': 'sgm.modules.GeneralConditioner', 'params': {'emb_models': [{'is_trainable': False, 'input_key': 'cond_frames_without_noise', 'target': 'sgm.modules.encoders.modules.FrozenOpenCLIPImagePredictionEmbedder', 'params': {'n_cond_frames': 2, 'n_copies': 1, 'open_clip_embedding_config': {'target': 'sgm.modules.encoders.modules.FrozenOpenCLIPImageEmbedder', 'params': {'freeze': True}}}}, {'input_key': 'fps_id', 'is_trainable': False, 'target': 'sgm.modules.encoders.modules.ConcatTimestepEmbedderND', 'params': {'outdim': 256}}, {'input_key': 'motion_bucket_id', 'is_trainable': False, 'target': 'sgm.modules.encoders.modules.ConcatTimestepEmbedderND', 'params': {'outdim': 256}}, {'input_key': 'cond_frames', 'is_trainable': False, 'target': 'sgm.modules.encoders.modules.VideoPredictionEmbedderWithEncoder', 'params': {'disable_encoder_autocast': True, 'n_cond_frames': 2, 'n_copies': 1, 'is_ae': True, 'encoder_config': {'target': 'sgm.models.autoencoder.AutoencoderKLModeOnly', 'params': {'embed_dim': 4, 'monitor': 'val/rec_loss', 'ddconfig': {'attn_type': 'vanilla-xformers', 'double_z': True, 'z_channels': 4, 'resolution': 256, 'in_channels': 3, 'out_ch': 3, 'ch': 128, 'ch_mult': [1, 2, 4, 4], 'num_res_blocks': 2, 'attn_resolutions': [], 'dropout': 0.0}, 'lossconfig': {'target': 'torch.nn.Identity'}}}}}, {'input_key': 'cond_aug', 'is_trainable': False, 'target': 'sgm.modules.encoders.modules.ConcatTimestepEmbedderND', 'params': {'outdim': 256}}, {'input_key': 'audio_emb', 'is_trainable': True, 'ucg_rate': 0.1, 'target': 'sgm.modules.encoders.modules.WhisperAudioEmbedder', 'params': {'merge_method': 'none', 'linear_dim': 1024}}]}}, 'first_stage_config': {'target': 'sgm.models.autoencoder.AutoencodingEngine', 'params': {'loss_config': {'target': 'torch.nn.Identity'}, 'regularizer_config': {'target': 'sgm.modules.autoencoding.regularizers.DiagonalGaussianRegularizer'}, 'encoder_config': {'target': 'sgm.modules.diffusionmodules.model.Encoder', 'params': {'attn_type': 'vanilla', 'double_z': True, 'z_channels': 4, 'resolution': 256, 'in_channels': 3, 'out_ch': 3, 'ch': 128, 'ch_mult': [1, 2, 4, 4], 'num_res_blocks': 2, 'attn_resolutions': [], 'dropout': 0.0}}, 'decoder_config': {'target': 'sgm.modules.autoencoding.temporal_ae.VideoDecoder', 'params': {'attn_type': 'vanilla', 'double_z': True, 'z_channels': 4, 'resolution': 256, 'in_channels': 3, 'out_ch': 3, 'ch': 128, 'ch_mult': [1, 2, 4, 4], 'num_res_blocks': 2, 'attn_resolutions': [], 'dropout': 0.0, 'video_kernel_size': [3, 1, 1]}}}}, 'sampler_config': {'target': 'sgm.modules.diffusionmodules.sampling.EulerEDMSampler', 'params': {'num_steps': 25, 'discretization_config': {'target': 'sgm.modules.diffusionmodules.discretizer.EDMDiscretization', 'params': {'sigma_max': 700.0}}, 'guider_config': {'target': 'sgm.modules.diffusionmodules.guiders.TrianglePredictionGuider', 'params': {'max_scale': 2.5, 'min_scale': 1.0, 'num_frames': 14, 'period': [1, 1], 'period_fusing': 'multiply'}}}}, 'loss_fn_config': {'target': 'sgm.modules.diffusionmodules.loss.StandardDiffusionLoss', 'params': {'batch2model_keys': ['image_only_indicator', 'num_video_frames'], 'loss_weighting_config': {'target': 'sgm.modules.diffusionmodules.loss_weighting.EpsWeighting'}, 'sigma_sampler_config': {'target': 'sgm.modules.diffusionmodules.sigma_sampling.EDMSampling', 'params': {'p_mean': 1.0, 'p_std': 1.2}}}}}}, 'data': {'target': 'sgm.data.video_datamodule_latent.VideoDataModule', 'params': {'train': {'datapipeline': {'filelist': '/fsx/rs2517/data/lists/HDTF/filelist_videos_train.txt', 'resize_size': 512, 'audio_folder': 'audio', 'video_folder': 'cropped_videos_original', 'video_extension': '.mp4', 'audio_extension': '.wav', 'latent_folder': None, 'audio_in_video': False, 'audio_rate': 16000, 'num_frames': 14, 'need_cond': True, 'mode': 'interpolation', 'use_latent': True, 'latent_type': 'video', 'latent_scale': 1, 'from_audio_embedding': True, 'load_all_possible_indexes': True, 'audio_emb_type': 'whisper', 'cond_noise': [-3.0, 0.5], 'motion_id': 125, 'data_mean': None, 'data_std': None}, 'loader': {'batch_size': 1, 'num_workers': 6, 'drop_last': True, 'pin_memory': True, 'persistent_workers': True}}}}, 'lightning': {'modelcheckpoint': {'params': {'every_n_train_steps': 5000, 'save_top_k': 1}}, 'callbacks': {'metrics_over_trainsteps_checkpoint': {'params': {'every_n_train_steps': 25000}}, 'video_logger': {'target': 'sgm.callbacks.video_logger.VideoLogger', 'params': {'disabled': False, 'enable_autocast': False, 'batch_frequency': 1000, 'max_videos': 1, 'increase_log_steps': False, 'log_first_step': True, 'log_videos_kwargs': {'use_ema_scope': False, 'ucg_keys': ['audio_emb'], 'N': 1, 'n_rows': 1}}}}, 'trainer': {'devices': 4, 'benchmark': False, 'num_sanity_val_steps': 1, 'accumulate_grad_batches': 1, 'max_epochs': 1000, 'precision': 'bf16-mixed', 'num_nodes': 1}}}\n",
      "VideoTransformerBlock is using checkpointing\n",
      "VideoTransformerBlock is using checkpointing\n",
      "VideoTransformerBlock is using checkpointing\n",
      "VideoTransformerBlock is using checkpointing\n",
      "VideoTransformerBlock is using checkpointing\n",
      "VideoTransformerBlock is using checkpointing\n",
      "VideoTransformerBlock is using checkpointing\n",
      "VideoTransformerBlock is using checkpointing\n",
      "VideoTransformerBlock is using checkpointing\n",
      "VideoTransformerBlock is using checkpointing\n",
      "VideoTransformerBlock is using checkpointing\n",
      "VideoTransformerBlock is using checkpointing\n",
      "VideoTransformerBlock is using checkpointing\n",
      "VideoTransformerBlock is using checkpointing\n",
      "VideoTransformerBlock is using checkpointing\n",
      "VideoTransformerBlock is using checkpointing\n",
      "VideoTransformerBlock is using checkpointing\n",
      "VideoTransformerBlock is using checkpointing\n",
      "VideoTransformerBlock is using checkpointing\n",
      "VideoTransformerBlock is using checkpointing\n",
      "VideoTransformerBlock is using checkpointing\n",
      "VideoTransformerBlock is using checkpointing\n",
      "VideoTransformerBlock is using checkpointing\n",
      "VideoTransformerBlock is using checkpointing\n",
      "VideoTransformerBlock is using checkpointing\n",
      "VideoTransformerBlock is using checkpointing\n",
      "VideoTransformerBlock is using checkpointing\n",
      "VideoTransformerBlock is using checkpointing\n",
      "VideoTransformerBlock is using checkpointing\n",
      "VideoTransformerBlock is using checkpointing\n",
      "VideoTransformerBlock is using checkpointing\n",
      "VideoTransformerBlock is using checkpointing\n",
      "Initialized embedder #0: FrozenOpenCLIPImagePredictionEmbedder with 683800065 params. Trainable: False\n",
      "Initialized embedder #1: ConcatTimestepEmbedderND with 0 params. Trainable: False\n",
      "Initialized embedder #2: ConcatTimestepEmbedderND with 0 params. Trainable: False\n",
      "Initialized embedder #3: VideoPredictionEmbedderWithEncoder with 83653863 params. Trainable: False\n",
      "Initialized embedder #4: ConcatTimestepEmbedderND with 0 params. Trainable: False\n",
      "Initialized embedder #5: WhisperAudioEmbedder with 1311744 params. Trainable: True\n",
      "Restoring from ../checkpoints/svd.safetensors\n",
      "Loaded state dict from ../checkpoints/svd.safetensors with 2446 keys\n",
      "Restored from ../checkpoints/svd.safetensors with 436 missing and 0 unexpected keys\n",
      "Missing Keys: ['model.learned_mask', 'model.diffusion_model.input_blocks.0.0.weight', 'model.diffusion_model.input_blocks.1.1.audio_stack.0.norm_in.weight', 'model.diffusion_model.input_blocks.1.1.audio_stack.0.norm_in.bias', 'model.diffusion_model.input_blocks.1.1.audio_stack.0.ff_in.net.0.proj.weight', 'model.diffusion_model.input_blocks.1.1.audio_stack.0.ff_in.net.0.proj.bias', 'model.diffusion_model.input_blocks.1.1.audio_stack.0.ff_in.net.2.weight', 'model.diffusion_model.input_blocks.1.1.audio_stack.0.ff_in.net.2.bias', 'model.diffusion_model.input_blocks.1.1.audio_stack.0.attn1.to_q.weight', 'model.diffusion_model.input_blocks.1.1.audio_stack.0.attn1.to_k.weight', 'model.diffusion_model.input_blocks.1.1.audio_stack.0.attn1.to_v.weight', 'model.diffusion_model.input_blocks.1.1.audio_stack.0.attn1.to_out.0.weight', 'model.diffusion_model.input_blocks.1.1.audio_stack.0.attn1.to_out.0.bias', 'model.diffusion_model.input_blocks.1.1.audio_stack.0.ff.net.0.proj.weight', 'model.diffusion_model.input_blocks.1.1.audio_stack.0.ff.net.0.proj.bias', 'model.diffusion_model.input_blocks.1.1.audio_stack.0.ff.net.2.weight', 'model.diffusion_model.input_blocks.1.1.audio_stack.0.ff.net.2.bias', 'model.diffusion_model.input_blocks.1.1.audio_stack.0.norm2.weight', 'model.diffusion_model.input_blocks.1.1.audio_stack.0.norm2.bias', 'model.diffusion_model.input_blocks.1.1.audio_stack.0.attn2.to_q.weight', 'model.diffusion_model.input_blocks.1.1.audio_stack.0.attn2.to_k.weight', 'model.diffusion_model.input_blocks.1.1.audio_stack.0.attn2.to_v.weight', 'model.diffusion_model.input_blocks.1.1.audio_stack.0.attn2.to_out.0.weight', 'model.diffusion_model.input_blocks.1.1.audio_stack.0.attn2.to_out.0.bias', 'model.diffusion_model.input_blocks.1.1.audio_stack.0.norm1.weight', 'model.diffusion_model.input_blocks.1.1.audio_stack.0.norm1.bias', 'model.diffusion_model.input_blocks.1.1.audio_stack.0.norm3.weight', 'model.diffusion_model.input_blocks.1.1.audio_stack.0.norm3.bias', 'model.diffusion_model.input_blocks.1.1.audio_mixer.mix_factor', 'model.diffusion_model.input_blocks.2.1.audio_stack.0.norm_in.weight', 'model.diffusion_model.input_blocks.2.1.audio_stack.0.norm_in.bias', 'model.diffusion_model.input_blocks.2.1.audio_stack.0.ff_in.net.0.proj.weight', 'model.diffusion_model.input_blocks.2.1.audio_stack.0.ff_in.net.0.proj.bias', 'model.diffusion_model.input_blocks.2.1.audio_stack.0.ff_in.net.2.weight', 'model.diffusion_model.input_blocks.2.1.audio_stack.0.ff_in.net.2.bias', 'model.diffusion_model.input_blocks.2.1.audio_stack.0.attn1.to_q.weight', 'model.diffusion_model.input_blocks.2.1.audio_stack.0.attn1.to_k.weight', 'model.diffusion_model.input_blocks.2.1.audio_stack.0.attn1.to_v.weight', 'model.diffusion_model.input_blocks.2.1.audio_stack.0.attn1.to_out.0.weight', 'model.diffusion_model.input_blocks.2.1.audio_stack.0.attn1.to_out.0.bias', 'model.diffusion_model.input_blocks.2.1.audio_stack.0.ff.net.0.proj.weight', 'model.diffusion_model.input_blocks.2.1.audio_stack.0.ff.net.0.proj.bias', 'model.diffusion_model.input_blocks.2.1.audio_stack.0.ff.net.2.weight', 'model.diffusion_model.input_blocks.2.1.audio_stack.0.ff.net.2.bias', 'model.diffusion_model.input_blocks.2.1.audio_stack.0.norm2.weight', 'model.diffusion_model.input_blocks.2.1.audio_stack.0.norm2.bias', 'model.diffusion_model.input_blocks.2.1.audio_stack.0.attn2.to_q.weight', 'model.diffusion_model.input_blocks.2.1.audio_stack.0.attn2.to_k.weight', 'model.diffusion_model.input_blocks.2.1.audio_stack.0.attn2.to_v.weight', 'model.diffusion_model.input_blocks.2.1.audio_stack.0.attn2.to_out.0.weight', 'model.diffusion_model.input_blocks.2.1.audio_stack.0.attn2.to_out.0.bias', 'model.diffusion_model.input_blocks.2.1.audio_stack.0.norm1.weight', 'model.diffusion_model.input_blocks.2.1.audio_stack.0.norm1.bias', 'model.diffusion_model.input_blocks.2.1.audio_stack.0.norm3.weight', 'model.diffusion_model.input_blocks.2.1.audio_stack.0.norm3.bias', 'model.diffusion_model.input_blocks.2.1.audio_mixer.mix_factor', 'model.diffusion_model.input_blocks.4.1.audio_stack.0.norm_in.weight', 'model.diffusion_model.input_blocks.4.1.audio_stack.0.norm_in.bias', 'model.diffusion_model.input_blocks.4.1.audio_stack.0.ff_in.net.0.proj.weight', 'model.diffusion_model.input_blocks.4.1.audio_stack.0.ff_in.net.0.proj.bias', 'model.diffusion_model.input_blocks.4.1.audio_stack.0.ff_in.net.2.weight', 'model.diffusion_model.input_blocks.4.1.audio_stack.0.ff_in.net.2.bias', 'model.diffusion_model.input_blocks.4.1.audio_stack.0.attn1.to_q.weight', 'model.diffusion_model.input_blocks.4.1.audio_stack.0.attn1.to_k.weight', 'model.diffusion_model.input_blocks.4.1.audio_stack.0.attn1.to_v.weight', 'model.diffusion_model.input_blocks.4.1.audio_stack.0.attn1.to_out.0.weight', 'model.diffusion_model.input_blocks.4.1.audio_stack.0.attn1.to_out.0.bias', 'model.diffusion_model.input_blocks.4.1.audio_stack.0.ff.net.0.proj.weight', 'model.diffusion_model.input_blocks.4.1.audio_stack.0.ff.net.0.proj.bias', 'model.diffusion_model.input_blocks.4.1.audio_stack.0.ff.net.2.weight', 'model.diffusion_model.input_blocks.4.1.audio_stack.0.ff.net.2.bias', 'model.diffusion_model.input_blocks.4.1.audio_stack.0.norm2.weight', 'model.diffusion_model.input_blocks.4.1.audio_stack.0.norm2.bias', 'model.diffusion_model.input_blocks.4.1.audio_stack.0.attn2.to_q.weight', 'model.diffusion_model.input_blocks.4.1.audio_stack.0.attn2.to_k.weight', 'model.diffusion_model.input_blocks.4.1.audio_stack.0.attn2.to_v.weight', 'model.diffusion_model.input_blocks.4.1.audio_stack.0.attn2.to_out.0.weight', 'model.diffusion_model.input_blocks.4.1.audio_stack.0.attn2.to_out.0.bias', 'model.diffusion_model.input_blocks.4.1.audio_stack.0.norm1.weight', 'model.diffusion_model.input_blocks.4.1.audio_stack.0.norm1.bias', 'model.diffusion_model.input_blocks.4.1.audio_stack.0.norm3.weight', 'model.diffusion_model.input_blocks.4.1.audio_stack.0.norm3.bias', 'model.diffusion_model.input_blocks.4.1.audio_mixer.mix_factor', 'model.diffusion_model.input_blocks.5.1.audio_stack.0.norm_in.weight', 'model.diffusion_model.input_blocks.5.1.audio_stack.0.norm_in.bias', 'model.diffusion_model.input_blocks.5.1.audio_stack.0.ff_in.net.0.proj.weight', 'model.diffusion_model.input_blocks.5.1.audio_stack.0.ff_in.net.0.proj.bias', 'model.diffusion_model.input_blocks.5.1.audio_stack.0.ff_in.net.2.weight', 'model.diffusion_model.input_blocks.5.1.audio_stack.0.ff_in.net.2.bias', 'model.diffusion_model.input_blocks.5.1.audio_stack.0.attn1.to_q.weight', 'model.diffusion_model.input_blocks.5.1.audio_stack.0.attn1.to_k.weight', 'model.diffusion_model.input_blocks.5.1.audio_stack.0.attn1.to_v.weight', 'model.diffusion_model.input_blocks.5.1.audio_stack.0.attn1.to_out.0.weight', 'model.diffusion_model.input_blocks.5.1.audio_stack.0.attn1.to_out.0.bias', 'model.diffusion_model.input_blocks.5.1.audio_stack.0.ff.net.0.proj.weight', 'model.diffusion_model.input_blocks.5.1.audio_stack.0.ff.net.0.proj.bias', 'model.diffusion_model.input_blocks.5.1.audio_stack.0.ff.net.2.weight', 'model.diffusion_model.input_blocks.5.1.audio_stack.0.ff.net.2.bias', 'model.diffusion_model.input_blocks.5.1.audio_stack.0.norm2.weight', 'model.diffusion_model.input_blocks.5.1.audio_stack.0.norm2.bias', 'model.diffusion_model.input_blocks.5.1.audio_stack.0.attn2.to_q.weight', 'model.diffusion_model.input_blocks.5.1.audio_stack.0.attn2.to_k.weight', 'model.diffusion_model.input_blocks.5.1.audio_stack.0.attn2.to_v.weight', 'model.diffusion_model.input_blocks.5.1.audio_stack.0.attn2.to_out.0.weight', 'model.diffusion_model.input_blocks.5.1.audio_stack.0.attn2.to_out.0.bias', 'model.diffusion_model.input_blocks.5.1.audio_stack.0.norm1.weight', 'model.diffusion_model.input_blocks.5.1.audio_stack.0.norm1.bias', 'model.diffusion_model.input_blocks.5.1.audio_stack.0.norm3.weight', 'model.diffusion_model.input_blocks.5.1.audio_stack.0.norm3.bias', 'model.diffusion_model.input_blocks.5.1.audio_mixer.mix_factor', 'model.diffusion_model.input_blocks.7.1.audio_stack.0.norm_in.weight', 'model.diffusion_model.input_blocks.7.1.audio_stack.0.norm_in.bias', 'model.diffusion_model.input_blocks.7.1.audio_stack.0.ff_in.net.0.proj.weight', 'model.diffusion_model.input_blocks.7.1.audio_stack.0.ff_in.net.0.proj.bias', 'model.diffusion_model.input_blocks.7.1.audio_stack.0.ff_in.net.2.weight', 'model.diffusion_model.input_blocks.7.1.audio_stack.0.ff_in.net.2.bias', 'model.diffusion_model.input_blocks.7.1.audio_stack.0.attn1.to_q.weight', 'model.diffusion_model.input_blocks.7.1.audio_stack.0.attn1.to_k.weight', 'model.diffusion_model.input_blocks.7.1.audio_stack.0.attn1.to_v.weight', 'model.diffusion_model.input_blocks.7.1.audio_stack.0.attn1.to_out.0.weight', 'model.diffusion_model.input_blocks.7.1.audio_stack.0.attn1.to_out.0.bias', 'model.diffusion_model.input_blocks.7.1.audio_stack.0.ff.net.0.proj.weight', 'model.diffusion_model.input_blocks.7.1.audio_stack.0.ff.net.0.proj.bias', 'model.diffusion_model.input_blocks.7.1.audio_stack.0.ff.net.2.weight', 'model.diffusion_model.input_blocks.7.1.audio_stack.0.ff.net.2.bias', 'model.diffusion_model.input_blocks.7.1.audio_stack.0.norm2.weight', 'model.diffusion_model.input_blocks.7.1.audio_stack.0.norm2.bias', 'model.diffusion_model.input_blocks.7.1.audio_stack.0.attn2.to_q.weight', 'model.diffusion_model.input_blocks.7.1.audio_stack.0.attn2.to_k.weight', 'model.diffusion_model.input_blocks.7.1.audio_stack.0.attn2.to_v.weight', 'model.diffusion_model.input_blocks.7.1.audio_stack.0.attn2.to_out.0.weight', 'model.diffusion_model.input_blocks.7.1.audio_stack.0.attn2.to_out.0.bias', 'model.diffusion_model.input_blocks.7.1.audio_stack.0.norm1.weight', 'model.diffusion_model.input_blocks.7.1.audio_stack.0.norm1.bias', 'model.diffusion_model.input_blocks.7.1.audio_stack.0.norm3.weight', 'model.diffusion_model.input_blocks.7.1.audio_stack.0.norm3.bias', 'model.diffusion_model.input_blocks.7.1.audio_mixer.mix_factor', 'model.diffusion_model.input_blocks.8.1.audio_stack.0.norm_in.weight', 'model.diffusion_model.input_blocks.8.1.audio_stack.0.norm_in.bias', 'model.diffusion_model.input_blocks.8.1.audio_stack.0.ff_in.net.0.proj.weight', 'model.diffusion_model.input_blocks.8.1.audio_stack.0.ff_in.net.0.proj.bias', 'model.diffusion_model.input_blocks.8.1.audio_stack.0.ff_in.net.2.weight', 'model.diffusion_model.input_blocks.8.1.audio_stack.0.ff_in.net.2.bias', 'model.diffusion_model.input_blocks.8.1.audio_stack.0.attn1.to_q.weight', 'model.diffusion_model.input_blocks.8.1.audio_stack.0.attn1.to_k.weight', 'model.diffusion_model.input_blocks.8.1.audio_stack.0.attn1.to_v.weight', 'model.diffusion_model.input_blocks.8.1.audio_stack.0.attn1.to_out.0.weight', 'model.diffusion_model.input_blocks.8.1.audio_stack.0.attn1.to_out.0.bias', 'model.diffusion_model.input_blocks.8.1.audio_stack.0.ff.net.0.proj.weight', 'model.diffusion_model.input_blocks.8.1.audio_stack.0.ff.net.0.proj.bias', 'model.diffusion_model.input_blocks.8.1.audio_stack.0.ff.net.2.weight', 'model.diffusion_model.input_blocks.8.1.audio_stack.0.ff.net.2.bias', 'model.diffusion_model.input_blocks.8.1.audio_stack.0.norm2.weight', 'model.diffusion_model.input_blocks.8.1.audio_stack.0.norm2.bias', 'model.diffusion_model.input_blocks.8.1.audio_stack.0.attn2.to_q.weight', 'model.diffusion_model.input_blocks.8.1.audio_stack.0.attn2.to_k.weight', 'model.diffusion_model.input_blocks.8.1.audio_stack.0.attn2.to_v.weight', 'model.diffusion_model.input_blocks.8.1.audio_stack.0.attn2.to_out.0.weight', 'model.diffusion_model.input_blocks.8.1.audio_stack.0.attn2.to_out.0.bias', 'model.diffusion_model.input_blocks.8.1.audio_stack.0.norm1.weight', 'model.diffusion_model.input_blocks.8.1.audio_stack.0.norm1.bias', 'model.diffusion_model.input_blocks.8.1.audio_stack.0.norm3.weight', 'model.diffusion_model.input_blocks.8.1.audio_stack.0.norm3.bias', 'model.diffusion_model.input_blocks.8.1.audio_mixer.mix_factor', 'model.diffusion_model.middle_block.1.audio_stack.0.norm_in.weight', 'model.diffusion_model.middle_block.1.audio_stack.0.norm_in.bias', 'model.diffusion_model.middle_block.1.audio_stack.0.ff_in.net.0.proj.weight', 'model.diffusion_model.middle_block.1.audio_stack.0.ff_in.net.0.proj.bias', 'model.diffusion_model.middle_block.1.audio_stack.0.ff_in.net.2.weight', 'model.diffusion_model.middle_block.1.audio_stack.0.ff_in.net.2.bias', 'model.diffusion_model.middle_block.1.audio_stack.0.attn1.to_q.weight', 'model.diffusion_model.middle_block.1.audio_stack.0.attn1.to_k.weight', 'model.diffusion_model.middle_block.1.audio_stack.0.attn1.to_v.weight', 'model.diffusion_model.middle_block.1.audio_stack.0.attn1.to_out.0.weight', 'model.diffusion_model.middle_block.1.audio_stack.0.attn1.to_out.0.bias', 'model.diffusion_model.middle_block.1.audio_stack.0.ff.net.0.proj.weight', 'model.diffusion_model.middle_block.1.audio_stack.0.ff.net.0.proj.bias', 'model.diffusion_model.middle_block.1.audio_stack.0.ff.net.2.weight', 'model.diffusion_model.middle_block.1.audio_stack.0.ff.net.2.bias', 'model.diffusion_model.middle_block.1.audio_stack.0.norm2.weight', 'model.diffusion_model.middle_block.1.audio_stack.0.norm2.bias', 'model.diffusion_model.middle_block.1.audio_stack.0.attn2.to_q.weight', 'model.diffusion_model.middle_block.1.audio_stack.0.attn2.to_k.weight', 'model.diffusion_model.middle_block.1.audio_stack.0.attn2.to_v.weight', 'model.diffusion_model.middle_block.1.audio_stack.0.attn2.to_out.0.weight', 'model.diffusion_model.middle_block.1.audio_stack.0.attn2.to_out.0.bias', 'model.diffusion_model.middle_block.1.audio_stack.0.norm1.weight', 'model.diffusion_model.middle_block.1.audio_stack.0.norm1.bias', 'model.diffusion_model.middle_block.1.audio_stack.0.norm3.weight', 'model.diffusion_model.middle_block.1.audio_stack.0.norm3.bias', 'model.diffusion_model.middle_block.1.audio_mixer.mix_factor', 'model.diffusion_model.output_blocks.3.1.audio_stack.0.norm_in.weight', 'model.diffusion_model.output_blocks.3.1.audio_stack.0.norm_in.bias', 'model.diffusion_model.output_blocks.3.1.audio_stack.0.ff_in.net.0.proj.weight', 'model.diffusion_model.output_blocks.3.1.audio_stack.0.ff_in.net.0.proj.bias', 'model.diffusion_model.output_blocks.3.1.audio_stack.0.ff_in.net.2.weight', 'model.diffusion_model.output_blocks.3.1.audio_stack.0.ff_in.net.2.bias', 'model.diffusion_model.output_blocks.3.1.audio_stack.0.attn1.to_q.weight', 'model.diffusion_model.output_blocks.3.1.audio_stack.0.attn1.to_k.weight', 'model.diffusion_model.output_blocks.3.1.audio_stack.0.attn1.to_v.weight', 'model.diffusion_model.output_blocks.3.1.audio_stack.0.attn1.to_out.0.weight', 'model.diffusion_model.output_blocks.3.1.audio_stack.0.attn1.to_out.0.bias', 'model.diffusion_model.output_blocks.3.1.audio_stack.0.ff.net.0.proj.weight', 'model.diffusion_model.output_blocks.3.1.audio_stack.0.ff.net.0.proj.bias', 'model.diffusion_model.output_blocks.3.1.audio_stack.0.ff.net.2.weight', 'model.diffusion_model.output_blocks.3.1.audio_stack.0.ff.net.2.bias', 'model.diffusion_model.output_blocks.3.1.audio_stack.0.norm2.weight', 'model.diffusion_model.output_blocks.3.1.audio_stack.0.norm2.bias', 'model.diffusion_model.output_blocks.3.1.audio_stack.0.attn2.to_q.weight', 'model.diffusion_model.output_blocks.3.1.audio_stack.0.attn2.to_k.weight', 'model.diffusion_model.output_blocks.3.1.audio_stack.0.attn2.to_v.weight', 'model.diffusion_model.output_blocks.3.1.audio_stack.0.attn2.to_out.0.weight', 'model.diffusion_model.output_blocks.3.1.audio_stack.0.attn2.to_out.0.bias', 'model.diffusion_model.output_blocks.3.1.audio_stack.0.norm1.weight', 'model.diffusion_model.output_blocks.3.1.audio_stack.0.norm1.bias', 'model.diffusion_model.output_blocks.3.1.audio_stack.0.norm3.weight', 'model.diffusion_model.output_blocks.3.1.audio_stack.0.norm3.bias', 'model.diffusion_model.output_blocks.3.1.audio_mixer.mix_factor', 'model.diffusion_model.output_blocks.4.1.audio_stack.0.norm_in.weight', 'model.diffusion_model.output_blocks.4.1.audio_stack.0.norm_in.bias', 'model.diffusion_model.output_blocks.4.1.audio_stack.0.ff_in.net.0.proj.weight', 'model.diffusion_model.output_blocks.4.1.audio_stack.0.ff_in.net.0.proj.bias', 'model.diffusion_model.output_blocks.4.1.audio_stack.0.ff_in.net.2.weight', 'model.diffusion_model.output_blocks.4.1.audio_stack.0.ff_in.net.2.bias', 'model.diffusion_model.output_blocks.4.1.audio_stack.0.attn1.to_q.weight', 'model.diffusion_model.output_blocks.4.1.audio_stack.0.attn1.to_k.weight', 'model.diffusion_model.output_blocks.4.1.audio_stack.0.attn1.to_v.weight', 'model.diffusion_model.output_blocks.4.1.audio_stack.0.attn1.to_out.0.weight', 'model.diffusion_model.output_blocks.4.1.audio_stack.0.attn1.to_out.0.bias', 'model.diffusion_model.output_blocks.4.1.audio_stack.0.ff.net.0.proj.weight', 'model.diffusion_model.output_blocks.4.1.audio_stack.0.ff.net.0.proj.bias', 'model.diffusion_model.output_blocks.4.1.audio_stack.0.ff.net.2.weight', 'model.diffusion_model.output_blocks.4.1.audio_stack.0.ff.net.2.bias', 'model.diffusion_model.output_blocks.4.1.audio_stack.0.norm2.weight', 'model.diffusion_model.output_blocks.4.1.audio_stack.0.norm2.bias', 'model.diffusion_model.output_blocks.4.1.audio_stack.0.attn2.to_q.weight', 'model.diffusion_model.output_blocks.4.1.audio_stack.0.attn2.to_k.weight', 'model.diffusion_model.output_blocks.4.1.audio_stack.0.attn2.to_v.weight', 'model.diffusion_model.output_blocks.4.1.audio_stack.0.attn2.to_out.0.weight', 'model.diffusion_model.output_blocks.4.1.audio_stack.0.attn2.to_out.0.bias', 'model.diffusion_model.output_blocks.4.1.audio_stack.0.norm1.weight', 'model.diffusion_model.output_blocks.4.1.audio_stack.0.norm1.bias', 'model.diffusion_model.output_blocks.4.1.audio_stack.0.norm3.weight', 'model.diffusion_model.output_blocks.4.1.audio_stack.0.norm3.bias', 'model.diffusion_model.output_blocks.4.1.audio_mixer.mix_factor', 'model.diffusion_model.output_blocks.5.1.audio_stack.0.norm_in.weight', 'model.diffusion_model.output_blocks.5.1.audio_stack.0.norm_in.bias', 'model.diffusion_model.output_blocks.5.1.audio_stack.0.ff_in.net.0.proj.weight', 'model.diffusion_model.output_blocks.5.1.audio_stack.0.ff_in.net.0.proj.bias', 'model.diffusion_model.output_blocks.5.1.audio_stack.0.ff_in.net.2.weight', 'model.diffusion_model.output_blocks.5.1.audio_stack.0.ff_in.net.2.bias', 'model.diffusion_model.output_blocks.5.1.audio_stack.0.attn1.to_q.weight', 'model.diffusion_model.output_blocks.5.1.audio_stack.0.attn1.to_k.weight', 'model.diffusion_model.output_blocks.5.1.audio_stack.0.attn1.to_v.weight', 'model.diffusion_model.output_blocks.5.1.audio_stack.0.attn1.to_out.0.weight', 'model.diffusion_model.output_blocks.5.1.audio_stack.0.attn1.to_out.0.bias', 'model.diffusion_model.output_blocks.5.1.audio_stack.0.ff.net.0.proj.weight', 'model.diffusion_model.output_blocks.5.1.audio_stack.0.ff.net.0.proj.bias', 'model.diffusion_model.output_blocks.5.1.audio_stack.0.ff.net.2.weight', 'model.diffusion_model.output_blocks.5.1.audio_stack.0.ff.net.2.bias', 'model.diffusion_model.output_blocks.5.1.audio_stack.0.norm2.weight', 'model.diffusion_model.output_blocks.5.1.audio_stack.0.norm2.bias', 'model.diffusion_model.output_blocks.5.1.audio_stack.0.attn2.to_q.weight', 'model.diffusion_model.output_blocks.5.1.audio_stack.0.attn2.to_k.weight', 'model.diffusion_model.output_blocks.5.1.audio_stack.0.attn2.to_v.weight', 'model.diffusion_model.output_blocks.5.1.audio_stack.0.attn2.to_out.0.weight', 'model.diffusion_model.output_blocks.5.1.audio_stack.0.attn2.to_out.0.bias', 'model.diffusion_model.output_blocks.5.1.audio_stack.0.norm1.weight', 'model.diffusion_model.output_blocks.5.1.audio_stack.0.norm1.bias', 'model.diffusion_model.output_blocks.5.1.audio_stack.0.norm3.weight', 'model.diffusion_model.output_blocks.5.1.audio_stack.0.norm3.bias', 'model.diffusion_model.output_blocks.5.1.audio_mixer.mix_factor', 'model.diffusion_model.output_blocks.6.1.audio_stack.0.norm_in.weight', 'model.diffusion_model.output_blocks.6.1.audio_stack.0.norm_in.bias', 'model.diffusion_model.output_blocks.6.1.audio_stack.0.ff_in.net.0.proj.weight', 'model.diffusion_model.output_blocks.6.1.audio_stack.0.ff_in.net.0.proj.bias', 'model.diffusion_model.output_blocks.6.1.audio_stack.0.ff_in.net.2.weight', 'model.diffusion_model.output_blocks.6.1.audio_stack.0.ff_in.net.2.bias', 'model.diffusion_model.output_blocks.6.1.audio_stack.0.attn1.to_q.weight', 'model.diffusion_model.output_blocks.6.1.audio_stack.0.attn1.to_k.weight', 'model.diffusion_model.output_blocks.6.1.audio_stack.0.attn1.to_v.weight', 'model.diffusion_model.output_blocks.6.1.audio_stack.0.attn1.to_out.0.weight', 'model.diffusion_model.output_blocks.6.1.audio_stack.0.attn1.to_out.0.bias', 'model.diffusion_model.output_blocks.6.1.audio_stack.0.ff.net.0.proj.weight', 'model.diffusion_model.output_blocks.6.1.audio_stack.0.ff.net.0.proj.bias', 'model.diffusion_model.output_blocks.6.1.audio_stack.0.ff.net.2.weight', 'model.diffusion_model.output_blocks.6.1.audio_stack.0.ff.net.2.bias', 'model.diffusion_model.output_blocks.6.1.audio_stack.0.norm2.weight', 'model.diffusion_model.output_blocks.6.1.audio_stack.0.norm2.bias', 'model.diffusion_model.output_blocks.6.1.audio_stack.0.attn2.to_q.weight', 'model.diffusion_model.output_blocks.6.1.audio_stack.0.attn2.to_k.weight', 'model.diffusion_model.output_blocks.6.1.audio_stack.0.attn2.to_v.weight', 'model.diffusion_model.output_blocks.6.1.audio_stack.0.attn2.to_out.0.weight', 'model.diffusion_model.output_blocks.6.1.audio_stack.0.attn2.to_out.0.bias', 'model.diffusion_model.output_blocks.6.1.audio_stack.0.norm1.weight', 'model.diffusion_model.output_blocks.6.1.audio_stack.0.norm1.bias', 'model.diffusion_model.output_blocks.6.1.audio_stack.0.norm3.weight', 'model.diffusion_model.output_blocks.6.1.audio_stack.0.norm3.bias', 'model.diffusion_model.output_blocks.6.1.audio_mixer.mix_factor', 'model.diffusion_model.output_blocks.7.1.audio_stack.0.norm_in.weight', 'model.diffusion_model.output_blocks.7.1.audio_stack.0.norm_in.bias', 'model.diffusion_model.output_blocks.7.1.audio_stack.0.ff_in.net.0.proj.weight', 'model.diffusion_model.output_blocks.7.1.audio_stack.0.ff_in.net.0.proj.bias', 'model.diffusion_model.output_blocks.7.1.audio_stack.0.ff_in.net.2.weight', 'model.diffusion_model.output_blocks.7.1.audio_stack.0.ff_in.net.2.bias', 'model.diffusion_model.output_blocks.7.1.audio_stack.0.attn1.to_q.weight', 'model.diffusion_model.output_blocks.7.1.audio_stack.0.attn1.to_k.weight', 'model.diffusion_model.output_blocks.7.1.audio_stack.0.attn1.to_v.weight', 'model.diffusion_model.output_blocks.7.1.audio_stack.0.attn1.to_out.0.weight', 'model.diffusion_model.output_blocks.7.1.audio_stack.0.attn1.to_out.0.bias', 'model.diffusion_model.output_blocks.7.1.audio_stack.0.ff.net.0.proj.weight', 'model.diffusion_model.output_blocks.7.1.audio_stack.0.ff.net.0.proj.bias', 'model.diffusion_model.output_blocks.7.1.audio_stack.0.ff.net.2.weight', 'model.diffusion_model.output_blocks.7.1.audio_stack.0.ff.net.2.bias', 'model.diffusion_model.output_blocks.7.1.audio_stack.0.norm2.weight', 'model.diffusion_model.output_blocks.7.1.audio_stack.0.norm2.bias', 'model.diffusion_model.output_blocks.7.1.audio_stack.0.attn2.to_q.weight', 'model.diffusion_model.output_blocks.7.1.audio_stack.0.attn2.to_k.weight', 'model.diffusion_model.output_blocks.7.1.audio_stack.0.attn2.to_v.weight', 'model.diffusion_model.output_blocks.7.1.audio_stack.0.attn2.to_out.0.weight', 'model.diffusion_model.output_blocks.7.1.audio_stack.0.attn2.to_out.0.bias', 'model.diffusion_model.output_blocks.7.1.audio_stack.0.norm1.weight', 'model.diffusion_model.output_blocks.7.1.audio_stack.0.norm1.bias', 'model.diffusion_model.output_blocks.7.1.audio_stack.0.norm3.weight', 'model.diffusion_model.output_blocks.7.1.audio_stack.0.norm3.bias', 'model.diffusion_model.output_blocks.7.1.audio_mixer.mix_factor', 'model.diffusion_model.output_blocks.8.1.audio_stack.0.norm_in.weight', 'model.diffusion_model.output_blocks.8.1.audio_stack.0.norm_in.bias', 'model.diffusion_model.output_blocks.8.1.audio_stack.0.ff_in.net.0.proj.weight', 'model.diffusion_model.output_blocks.8.1.audio_stack.0.ff_in.net.0.proj.bias', 'model.diffusion_model.output_blocks.8.1.audio_stack.0.ff_in.net.2.weight', 'model.diffusion_model.output_blocks.8.1.audio_stack.0.ff_in.net.2.bias', 'model.diffusion_model.output_blocks.8.1.audio_stack.0.attn1.to_q.weight', 'model.diffusion_model.output_blocks.8.1.audio_stack.0.attn1.to_k.weight', 'model.diffusion_model.output_blocks.8.1.audio_stack.0.attn1.to_v.weight', 'model.diffusion_model.output_blocks.8.1.audio_stack.0.attn1.to_out.0.weight', 'model.diffusion_model.output_blocks.8.1.audio_stack.0.attn1.to_out.0.bias', 'model.diffusion_model.output_blocks.8.1.audio_stack.0.ff.net.0.proj.weight', 'model.diffusion_model.output_blocks.8.1.audio_stack.0.ff.net.0.proj.bias', 'model.diffusion_model.output_blocks.8.1.audio_stack.0.ff.net.2.weight', 'model.diffusion_model.output_blocks.8.1.audio_stack.0.ff.net.2.bias', 'model.diffusion_model.output_blocks.8.1.audio_stack.0.norm2.weight', 'model.diffusion_model.output_blocks.8.1.audio_stack.0.norm2.bias', 'model.diffusion_model.output_blocks.8.1.audio_stack.0.attn2.to_q.weight', 'model.diffusion_model.output_blocks.8.1.audio_stack.0.attn2.to_k.weight', 'model.diffusion_model.output_blocks.8.1.audio_stack.0.attn2.to_v.weight', 'model.diffusion_model.output_blocks.8.1.audio_stack.0.attn2.to_out.0.weight', 'model.diffusion_model.output_blocks.8.1.audio_stack.0.attn2.to_out.0.bias', 'model.diffusion_model.output_blocks.8.1.audio_stack.0.norm1.weight', 'model.diffusion_model.output_blocks.8.1.audio_stack.0.norm1.bias', 'model.diffusion_model.output_blocks.8.1.audio_stack.0.norm3.weight', 'model.diffusion_model.output_blocks.8.1.audio_stack.0.norm3.bias', 'model.diffusion_model.output_blocks.8.1.audio_mixer.mix_factor', 'model.diffusion_model.output_blocks.9.1.audio_stack.0.norm_in.weight', 'model.diffusion_model.output_blocks.9.1.audio_stack.0.norm_in.bias', 'model.diffusion_model.output_blocks.9.1.audio_stack.0.ff_in.net.0.proj.weight', 'model.diffusion_model.output_blocks.9.1.audio_stack.0.ff_in.net.0.proj.bias', 'model.diffusion_model.output_blocks.9.1.audio_stack.0.ff_in.net.2.weight', 'model.diffusion_model.output_blocks.9.1.audio_stack.0.ff_in.net.2.bias', 'model.diffusion_model.output_blocks.9.1.audio_stack.0.attn1.to_q.weight', 'model.diffusion_model.output_blocks.9.1.audio_stack.0.attn1.to_k.weight', 'model.diffusion_model.output_blocks.9.1.audio_stack.0.attn1.to_v.weight', 'model.diffusion_model.output_blocks.9.1.audio_stack.0.attn1.to_out.0.weight', 'model.diffusion_model.output_blocks.9.1.audio_stack.0.attn1.to_out.0.bias', 'model.diffusion_model.output_blocks.9.1.audio_stack.0.ff.net.0.proj.weight', 'model.diffusion_model.output_blocks.9.1.audio_stack.0.ff.net.0.proj.bias', 'model.diffusion_model.output_blocks.9.1.audio_stack.0.ff.net.2.weight', 'model.diffusion_model.output_blocks.9.1.audio_stack.0.ff.net.2.bias', 'model.diffusion_model.output_blocks.9.1.audio_stack.0.norm2.weight', 'model.diffusion_model.output_blocks.9.1.audio_stack.0.norm2.bias', 'model.diffusion_model.output_blocks.9.1.audio_stack.0.attn2.to_q.weight', 'model.diffusion_model.output_blocks.9.1.audio_stack.0.attn2.to_k.weight', 'model.diffusion_model.output_blocks.9.1.audio_stack.0.attn2.to_v.weight', 'model.diffusion_model.output_blocks.9.1.audio_stack.0.attn2.to_out.0.weight', 'model.diffusion_model.output_blocks.9.1.audio_stack.0.attn2.to_out.0.bias', 'model.diffusion_model.output_blocks.9.1.audio_stack.0.norm1.weight', 'model.diffusion_model.output_blocks.9.1.audio_stack.0.norm1.bias', 'model.diffusion_model.output_blocks.9.1.audio_stack.0.norm3.weight', 'model.diffusion_model.output_blocks.9.1.audio_stack.0.norm3.bias', 'model.diffusion_model.output_blocks.9.1.audio_mixer.mix_factor', 'model.diffusion_model.output_blocks.10.1.audio_stack.0.norm_in.weight', 'model.diffusion_model.output_blocks.10.1.audio_stack.0.norm_in.bias', 'model.diffusion_model.output_blocks.10.1.audio_stack.0.ff_in.net.0.proj.weight', 'model.diffusion_model.output_blocks.10.1.audio_stack.0.ff_in.net.0.proj.bias', 'model.diffusion_model.output_blocks.10.1.audio_stack.0.ff_in.net.2.weight', 'model.diffusion_model.output_blocks.10.1.audio_stack.0.ff_in.net.2.bias', 'model.diffusion_model.output_blocks.10.1.audio_stack.0.attn1.to_q.weight', 'model.diffusion_model.output_blocks.10.1.audio_stack.0.attn1.to_k.weight', 'model.diffusion_model.output_blocks.10.1.audio_stack.0.attn1.to_v.weight', 'model.diffusion_model.output_blocks.10.1.audio_stack.0.attn1.to_out.0.weight', 'model.diffusion_model.output_blocks.10.1.audio_stack.0.attn1.to_out.0.bias', 'model.diffusion_model.output_blocks.10.1.audio_stack.0.ff.net.0.proj.weight', 'model.diffusion_model.output_blocks.10.1.audio_stack.0.ff.net.0.proj.bias', 'model.diffusion_model.output_blocks.10.1.audio_stack.0.ff.net.2.weight', 'model.diffusion_model.output_blocks.10.1.audio_stack.0.ff.net.2.bias', 'model.diffusion_model.output_blocks.10.1.audio_stack.0.norm2.weight', 'model.diffusion_model.output_blocks.10.1.audio_stack.0.norm2.bias', 'model.diffusion_model.output_blocks.10.1.audio_stack.0.attn2.to_q.weight', 'model.diffusion_model.output_blocks.10.1.audio_stack.0.attn2.to_k.weight', 'model.diffusion_model.output_blocks.10.1.audio_stack.0.attn2.to_v.weight', 'model.diffusion_model.output_blocks.10.1.audio_stack.0.attn2.to_out.0.weight', 'model.diffusion_model.output_blocks.10.1.audio_stack.0.attn2.to_out.0.bias', 'model.diffusion_model.output_blocks.10.1.audio_stack.0.norm1.weight', 'model.diffusion_model.output_blocks.10.1.audio_stack.0.norm1.bias', 'model.diffusion_model.output_blocks.10.1.audio_stack.0.norm3.weight', 'model.diffusion_model.output_blocks.10.1.audio_stack.0.norm3.bias', 'model.diffusion_model.output_blocks.10.1.audio_mixer.mix_factor', 'model.diffusion_model.output_blocks.11.1.audio_stack.0.norm_in.weight', 'model.diffusion_model.output_blocks.11.1.audio_stack.0.norm_in.bias', 'model.diffusion_model.output_blocks.11.1.audio_stack.0.ff_in.net.0.proj.weight', 'model.diffusion_model.output_blocks.11.1.audio_stack.0.ff_in.net.0.proj.bias', 'model.diffusion_model.output_blocks.11.1.audio_stack.0.ff_in.net.2.weight', 'model.diffusion_model.output_blocks.11.1.audio_stack.0.ff_in.net.2.bias', 'model.diffusion_model.output_blocks.11.1.audio_stack.0.attn1.to_q.weight', 'model.diffusion_model.output_blocks.11.1.audio_stack.0.attn1.to_k.weight', 'model.diffusion_model.output_blocks.11.1.audio_stack.0.attn1.to_v.weight', 'model.diffusion_model.output_blocks.11.1.audio_stack.0.attn1.to_out.0.weight', 'model.diffusion_model.output_blocks.11.1.audio_stack.0.attn1.to_out.0.bias', 'model.diffusion_model.output_blocks.11.1.audio_stack.0.ff.net.0.proj.weight', 'model.diffusion_model.output_blocks.11.1.audio_stack.0.ff.net.0.proj.bias', 'model.diffusion_model.output_blocks.11.1.audio_stack.0.ff.net.2.weight', 'model.diffusion_model.output_blocks.11.1.audio_stack.0.ff.net.2.bias', 'model.diffusion_model.output_blocks.11.1.audio_stack.0.norm2.weight', 'model.diffusion_model.output_blocks.11.1.audio_stack.0.norm2.bias', 'model.diffusion_model.output_blocks.11.1.audio_stack.0.attn2.to_q.weight', 'model.diffusion_model.output_blocks.11.1.audio_stack.0.attn2.to_k.weight', 'model.diffusion_model.output_blocks.11.1.audio_stack.0.attn2.to_v.weight', 'model.diffusion_model.output_blocks.11.1.audio_stack.0.attn2.to_out.0.weight', 'model.diffusion_model.output_blocks.11.1.audio_stack.0.attn2.to_out.0.bias', 'model.diffusion_model.output_blocks.11.1.audio_stack.0.norm1.weight', 'model.diffusion_model.output_blocks.11.1.audio_stack.0.norm1.bias', 'model.diffusion_model.output_blocks.11.1.audio_stack.0.norm3.weight', 'model.diffusion_model.output_blocks.11.1.audio_stack.0.norm3.bias', 'model.diffusion_model.output_blocks.11.1.audio_mixer.mix_factor', 'conditioner.embedders.5.linear.weight', 'conditioner.embedders.5.linear.bias']\n"
     ]
    }
   ],
   "source": [
    "import sys\n",
    "\n",
    "sys.path.append(\"..\")\n",
    "from omegaconf import OmegaConf\n",
    "from sgm.util import instantiate_from_config\n",
    "\n",
    "config = OmegaConf.load(\n",
    "    \"/vol/paramonos2/projects/antoni/code/Personal/generative-models/configs/example_training/svd_interpolation.yaml\"\n",
    ")\n",
    "print(config)\n",
    "config[\"model\"][\"params\"][\"ckpt_path\"] = \"../checkpoints/svd.safetensors\"\n",
    "video_model = instantiate_from_config(config.model)"
   ]
  },
  {
   "cell_type": "code",
   "execution_count": null,
   "metadata": {},
   "outputs": [],
   "source": [
    "model.model.learned_mask.sum((1, 2))"
   ]
  },
  {
   "cell_type": "code",
   "execution_count": 2,
   "metadata": {},
   "outputs": [
    {
     "name": "stderr",
     "output_type": "stream",
     "text": [
      "WARNING:py.warnings:/vol/paramonos2/projects/antoni/miniconda3/envs/svd/lib/python3.10/site-packages/torchvision/transforms/functional.py:1603: UserWarning: The default value of the antialias parameter of all the resizing transforms (Resize(), RandomResizedCrop(), etc.) will change from None to True in v0.17, in order to be consistent across the PIL and Tensor backends. To suppress this warning, directly pass antialias=True (recommended, future default), antialias=None (current default, which means False for Tensors and True for PIL), or antialias=False (only works on Tensors - PIL will still use antialiasing). This also applies if you are using the inference transforms from the models weights: update the call to weights.transforms(antialias=True).\n",
      "  warnings.warn(\n",
      "\n"
     ]
    },
    {
     "name": "stdout",
     "output_type": "stream",
     "text": [
      "torch.Size([1000, 3, 512, 512])\n"
     ]
    }
   ],
   "source": [
    "from torchvision.io import read_video\n",
    "import torch\n",
    "\n",
    "video_path = \"/data2/Datasets/HDTF/cropped_videos_original/WRA_BobbySchilling_001.mp4\"\n",
    "resolution = 512\n",
    "device = torch.device(\"cuda\")\n",
    "\n",
    "video, audio, info = read_video(video_path, pts_unit=\"sec\", output_format=\"TCHW\")\n",
    "\n",
    "from torchvision.transforms import Resize\n",
    "\n",
    "resize = Resize((resolution, resolution))\n",
    "video = resize(video)\n",
    "print(video.shape)"
   ]
  },
  {
   "cell_type": "code",
   "execution_count": null,
   "metadata": {},
   "outputs": [],
   "source": [
    "audio_path = \"/data2/Datasets/HDTF/audio/WRA_BobbySchilling_001_whisper_emb.pt\"\n",
    "audio = torch.load(audio_path)\n",
    "print(audio.shape)"
   ]
  },
  {
   "cell_type": "code",
   "execution_count": 5,
   "metadata": {},
   "outputs": [],
   "source": [
    "model = video_model"
   ]
  },
  {
   "cell_type": "code",
   "execution_count": null,
   "metadata": {},
   "outputs": [],
   "source": [
    "model.first_stage_model.encoder"
   ]
  },
  {
   "cell_type": "code",
   "execution_count": 32,
   "metadata": {},
   "outputs": [],
   "source": [
    "model = model.to(device)\n",
    "encoded = model.conditioner.embedders[3]((video[:12].to(device).float() / 255.0) * 2 - 1) * 0.18215"
   ]
  },
  {
   "cell_type": "code",
   "execution_count": 20,
   "metadata": {},
   "outputs": [],
   "source": [
    "from sgm.modules.lipreader.preparation.detectors.retinaface.video_process import VideoProcess\n",
    "import numpy as np\n",
    "\n",
    "video_process = VideoProcess(\n",
    "    convert_gray=False, crop_width=96 // 8, crop_height=96 // 8, reference_size=(64, 64), target_size=(64, 64)\n",
    ")\n",
    "landmarks = np.load(\"/data2/Datasets/HDTF/cropped_videos_original/RD_Radio18_000.npy\")\n",
    "from sgm.data.data_utils import scale_landmarks\n",
    "\n",
    "landmarks = scale_landmarks(landmarks, (772, 772), (64, 64))"
   ]
  },
  {
   "cell_type": "code",
   "execution_count": 18,
   "metadata": {},
   "outputs": [
    {
     "data": {
      "text/plain": [
       "torch.Size([6, 8, 64, 64])"
      ]
     },
     "execution_count": 18,
     "metadata": {},
     "output_type": "execute_result"
    }
   ],
   "source": [
    "encoded.shape"
   ]
  },
  {
   "cell_type": "code",
   "execution_count": 27,
   "metadata": {},
   "outputs": [],
   "source": [
    "from einops import rearrange\n",
    "\n",
    "encoded_reshape = rearrange(encoded, \"b (t c) h w -> (b t) h w c\", c=4)\n",
    "\n",
    "video_proccessed = video_process(encoded_reshape.cpu().numpy(), landmarks[:12], True, threshold=30)\n",
    "video_proccessed = torch.tensor(video_proccessed)\n",
    "video_proccessed = rearrange(video_proccessed, \"b h w c -> b c h w\")"
   ]
  },
  {
   "cell_type": "code",
   "execution_count": 40,
   "metadata": {},
   "outputs": [
    {
     "data": {
      "image/jpeg": "[encoded data removed]",
      "image/png": "[encoded data removed]",
      "text/plain": [
       "<PIL.Image.Image image mode=RGB size=80x80>"
      ]
     },
     "metadata": {},
     "output_type": "display_data"
    }
   ],
   "source": [
    "from PIL import Image\n",
    "import numpy as np\n",
    "\n",
    "video_model.to(device)\n",
    "# decoded = video_model.decode_first_stage(encoded[:, 4:])\n",
    "# encoded = video_proccessed.cuda()\n",
    "decoded = video_model.decode_first_stage(encoded[:, 4:, 40:50, 30:40])\n",
    "img = Image.fromarray(np.uint8((decoded[0].clip(-1, 1).cpu().numpy().transpose(1, 2, 0) + 1) * 255 / 2))\n",
    "display(img)"
   ]
  },
  {
   "cell_type": "code",
   "execution_count": null,
   "metadata": {},
   "outputs": [],
   "source": [
    "from safetensors.torch import load_file\n",
    "\n",
    "latent_path = \"/vol/bitbucket/abigata/00190_video_512_latent.safetensors\"\n",
    "\n",
    "latent = load_file(latent_path)\n",
    "latent[\"latents\"].shape"
   ]
  },
  {
   "cell_type": "code",
   "execution_count": null,
   "metadata": {},
   "outputs": [],
   "source": [
    "decoded = video_model.decode_first_stage(latent[\"latents\"][:1].to(\"cpu\"))"
   ]
  },
  {
   "cell_type": "code",
   "execution_count": null,
   "metadata": {},
   "outputs": [],
   "source": [
    "from PIL import Image\n",
    "import numpy as np\n",
    "\n",
    "img = Image.fromarray(np.uint8((decoded[0].clip(-1, 1).cpu().numpy().transpose(1, 2, 0) + 1) * 255 / 2))\n",
    "display(img)"
   ]
  },
  {
   "cell_type": "code",
   "execution_count": null,
   "metadata": {},
   "outputs": [],
   "source": [
    "import sys\n",
    "\n",
    "sys.path.append(\"..\")\n",
    "from omegaconf import OmegaConf\n",
    "from sgm.util import instantiate_from_config\n",
    "\n",
    "config = OmegaConf.load(\n",
    "    \"/vol/paramonos2/projects/antoni/code/Personal/generative-models/configs/inference/sd_2_1.yaml\"\n",
    ")\n",
    "print(config)\n",
    "config[\"model\"][\"params\"][\n",
    "    \"ckpt_path\"\n",
    "] = \"/vol/paramonos2/projects/antoni/code/Personal/generative-models/checkpoints/v2-1_512-ema-pruned.safetensors\"\n",
    "model = instantiate_from_config(config.model)"
   ]
  },
  {
   "cell_type": "code",
   "execution_count": null,
   "metadata": {},
   "outputs": [],
   "source": [
    "from torchvision.io import read_video\n",
    "import torch\n",
    "\n",
    "video_path = \"/data2/Datasets/HDTF/cropped_videos_original/WRA_BobbySchilling_001.mp4\"\n",
    "resolution = 512\n",
    "device = torch.device(\"cuda:4\")\n",
    "\n",
    "video, audio, info = read_video(video_path, pts_unit=\"sec\", output_format=\"TCHW\")\n",
    "\n",
    "from torchvision.transforms import Resize\n",
    "\n",
    "resize = Resize((resolution, resolution))\n",
    "video = resize(video)\n",
    "print(video.shape)"
   ]
  },
  {
   "cell_type": "code",
   "execution_count": null,
   "metadata": {},
   "outputs": [],
   "source": [
    "model.to(device)\n",
    "encoded = model.encode_first_stage((video[:2].to(device).float() / 255.0) * 2 - 1)"
   ]
  },
  {
   "cell_type": "code",
   "execution_count": null,
   "metadata": {},
   "outputs": [],
   "source": [
    "# decoded = model.decode_first_stage(encoded)\n",
    "decoded = model.decode_first_stage(latent[\"latents\"][:1].to(device))"
   ]
  },
  {
   "cell_type": "code",
   "execution_count": null,
   "metadata": {},
   "outputs": [],
   "source": [
    "from PIL import Image\n",
    "import numpy as np\n",
    "\n",
    "img = Image.fromarray(np.uint8((decoded[0].clip(-1, 1).cpu().numpy().transpose(1, 2, 0) + 1) * 255 / 2))\n",
    "display(img)"
   ]
  },
  {
   "cell_type": "code",
   "execution_count": null,
   "metadata": {},
   "outputs": [],
   "source": [
    "from transformers import Wav2Vec2Processor, Wav2Vec2ForCTC\n",
    "\n",
    "# load model and tokenizer\n",
    "processor = Wav2Vec2Processor.from_pretrained(\"facebook/wav2vec2-base-960h\", cache_dir=\"/vol/bitbucket/abigata/.cache\")\n",
    "model = Wav2Vec2ForCTC.from_pretrained(\"facebook/wav2vec2-base-960h\", cache_dir=\"/vol/bitbucket/abigata/.cache\")"
   ]
  },
  {
   "cell_type": "code",
   "execution_count": null,
   "metadata": {},
   "outputs": [],
   "source": [
    "import torchaudio\n",
    "\n",
    "audio_path = \"/data2/Datasets/HDTF/audio/WRA_JeffFlake_001.wav\"\n",
    "audio, sr = torchaudio.load(audio_path)"
   ]
  },
  {
   "cell_type": "code",
   "execution_count": null,
   "metadata": {},
   "outputs": [],
   "source": [
    "audio.shape"
   ]
  },
  {
   "cell_type": "code",
   "execution_count": null,
   "metadata": {},
   "outputs": [],
   "source": [
    "from einops import rearrange\n",
    "\n",
    "audio_reshaped = rearrange(audio.mean(0)[:640000], \"(f s) -> f s\", s=320)\n",
    "audio_reshaped.shape"
   ]
  },
  {
   "cell_type": "code",
   "execution_count": null,
   "metadata": {},
   "outputs": [],
   "source": [
    "processed = processor(audio=audio_reshaped, sampling_rate=sr, return_tensors=\"pt\", padding=\"longest\").input_values"
   ]
  },
  {
   "cell_type": "code",
   "execution_count": null,
   "metadata": {},
   "outputs": [],
   "source": [
    "processed.shape"
   ]
  },
  {
   "cell_type": "code",
   "execution_count": null,
   "metadata": {},
   "outputs": [],
   "source": [
    "import torch\n",
    "\n",
    "normed_slice = (audio - audio.mean()) / torch.sqrt(audio.var() + 1e-7)"
   ]
  },
  {
   "cell_type": "code",
   "execution_count": null,
   "metadata": {},
   "outputs": [],
   "source": [
    "normed_slice.shape"
   ]
  },
  {
   "cell_type": "code",
   "execution_count": null,
   "metadata": {},
   "outputs": [],
   "source": [
    "with torch.no_grad():\n",
    "    outs = model(normed_slice[:, : 16000 * 3], output_hidden_states=True)\n",
    "    # hidden_states = model.wav2vec2(normed_slice)"
   ]
  },
  {
   "cell_type": "code",
   "execution_count": null,
   "metadata": {},
   "outputs": [],
   "source": [
    "outs.logits.shape"
   ]
  },
  {
   "cell_type": "code",
   "execution_count": null,
   "metadata": {},
   "outputs": [],
   "source": [
    "from einops import rearrange\n",
    "\n",
    "rearanged = rearrange(hidden_states[0], \"() (f d) c -> f d c\", d=2)"
   ]
  },
  {
   "cell_type": "code",
   "execution_count": null,
   "metadata": {},
   "outputs": [],
   "source": [
    "rearanged[1]"
   ]
  },
  {
   "cell_type": "code",
   "execution_count": null,
   "metadata": {},
   "outputs": [],
   "source": [
    "outs.hidden_states[-1][:, 2:4]"
   ]
  },
  {
   "cell_type": "code",
   "execution_count": null,
   "metadata": {},
   "outputs": [],
   "source": [
    "from torchvision.io import read_video\n",
    "\n",
    "video_path = \"/data2/Datasets/HDTF/cropped_videos_original/WRA_JeffFlake_001.mp4\"\n",
    "resolution = 512\n",
    "device = torch.device(\"cuda:4\")\n",
    "\n",
    "video, audio, info = read_video(video_path, pts_unit=\"sec\", output_format=\"TCHW\")\n",
    "video.shape"
   ]
  },
  {
   "cell_type": "code",
   "execution_count": null,
   "metadata": {},
   "outputs": [],
   "source": [
    "outs.logits.shape, 7500 * 2"
   ]
  },
  {
   "cell_type": "code",
   "execution_count": null,
   "metadata": {},
   "outputs": [],
   "source": [
    "predicted_ids = torch.argmax(outs.logits, dim=-1).squeeze()\n",
    "\n",
    "# transcribe\n",
    "transcription = processor.decode(predicted_ids)\n",
    "transcription"
   ]
  },
  {
   "cell_type": "code",
   "execution_count": null,
   "metadata": {},
   "outputs": [],
   "source": [
    "\"NTRIES HAVE NEVER HAD FOR A SINGLE DAY IN THEIR LIVES BUT THE STORY OF THE PAST THREE AND A HALF YEARS IS A STORY OF THE POWER THAT WE VEST IN THE PRESIDENCY\""
   ]
  },
  {
   "cell_type": "code",
   "execution_count": null,
   "metadata": {},
   "outputs": [],
   "source": [
    "from transformers import Wav2Vec2Processor, Wav2Vec2ForCTC\n",
    "\n",
    "# load model and tokenizer\n",
    "processor = Wav2Vec2Processor.from_pretrained(\"facebook/wav2vec2-base-960h\", cache_dir=\"/vol/bitbucket/abigata/.cache\")\n",
    "model = Wav2Vec2ForCTC.from_pretrained(\"facebook/wav2vec2-base-960h\", cache_dir=\"/vol/bitbucket/abigata/.cache\")"
   ]
  },
  {
   "cell_type": "code",
   "execution_count": null,
   "metadata": {},
   "outputs": [],
   "source": [
    "model"
   ]
  },
  {
   "cell_type": "code",
   "execution_count": null,
   "metadata": {},
   "outputs": [],
   "source": [
    "import torch\n",
    "from einops import rearrange\n",
    "\n",
    "audio_emb = torch.load(\"/data2/Datasets/VoxCeleb2/video/dev/mp4/id07085/NcpRWNyzlAA/00031_wav2vec2_emb.pt\")\n",
    "audio_emb = rearrange(audio_emb, \"f d c -> (f d) c\")"
   ]
  },
  {
   "cell_type": "code",
   "execution_count": null,
   "metadata": {},
   "outputs": [],
   "source": [
    "logits = model.lm_head(audio_emb).unsqueeze(0)\n",
    "predicted_ids = torch.argmax(logits, dim=-1).squeeze()\n",
    "\n",
    "# transcribe\n",
    "transcription = processor.decode(predicted_ids)\n",
    "transcription"
   ]
  },
  {
   "cell_type": "code",
   "execution_count": null,
   "metadata": {},
   "outputs": [],
   "source": [
    "# Plot video\n",
    "import moviepy.editor as mp\n",
    "\n",
    "mp.VideoFileClip(\"/vol/paramonos/datasets/VoxCeleb2/video/dev/mp4/id07085/NcpRWNyzlAA/00031.mp4\").ipython_display()"
   ]
  }
 ],
 "metadata": {
  "kernelspec": {
   "display_name": "svd",
   "language": "python",
   "name": "python3"
  },
  "language_info": {
   "codemirror_mode": {
    "name": "ipython",
    "version": 3
   },
   "file_extension": ".py",
   "mimetype": "text/x-python",
   "name": "python",
   "nbconvert_exporter": "python",
   "pygments_lexer": "ipython3",
   "version": "3.10.13"
  }
 },
 "nbformat": 4,
 "nbformat_minor": 2
}
