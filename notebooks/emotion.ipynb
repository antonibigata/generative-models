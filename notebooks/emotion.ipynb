{
 "cells": [
  {
   "cell_type": "code",
   "execution_count": 2,
   "metadata": {},
   "outputs": [
    {
     "name": "stdout",
     "output_type": "stream",
     "text": [
      "dict_keys(['labels', 'valence', 'arousal', 'scores'])\n",
      "labels\n",
      "torch.Size([3479])\n",
      "valence\n",
      "torch.Size([3479])\n",
      "arousal\n",
      "torch.Size([3479])\n",
      "scores\n",
      "torch.Size([3479, 8])\n"
     ]
    }
   ],
   "source": [
    "import torch\n",
    "\n",
    "# Load emotion \n",
    "emotion = torch.load(\"/fsx/behavioural_computing_data/face_generation_data/AA_processed/part_22/emotions/D333_C031_1006VO_001_output_output.pt\")\n",
    "print(emotion.keys())\n",
    "for key in emotion.keys():\n",
    "    print(key)\n",
    "    print(emotion[key].shape)\n",
    "    \n"
   ]
  },
  {
   "cell_type": "code",
   "execution_count": 4,
   "metadata": {},
   "outputs": [
    {
     "name": "stdout",
     "output_type": "stream",
     "text": [
      "tensor(0.2467)\n",
      "tensor(-0.3127)\n",
      "tensor(0.4399)\n",
      "tensor(-0.1810)\n"
     ]
    }
   ],
   "source": [
    "print(emotion[\"valence\"].max())\n",
    "print(emotion[\"valence\"].min())\n",
    "print(emotion[\"arousal\"].max())\n",
    "print(emotion[\"arousal\"].min())"
   ]
  },
  {
   "cell_type": "code",
   "execution_count": 9,
   "metadata": {},
   "outputs": [
    {
     "ename": "AttributeError",
     "evalue": "module 'torchvision.io' has no attribute 'read_video_metadata'",
     "output_type": "error",
     "traceback": [
      "\u001b[0;31m---------------------------------------------------------------------------\u001b[0m",
      "\u001b[0;31mAttributeError\u001b[0m                            Traceback (most recent call last)",
      "Cell \u001b[0;32mIn[9], line 3\u001b[0m\n\u001b[1;32m      1\u001b[0m \u001b[38;5;28;01mimport\u001b[39;00m \u001b[38;5;21;01mtorchvision\u001b[39;00m\n\u001b[0;32m----> 3\u001b[0m \u001b[43mtorchvision\u001b[49m\u001b[38;5;241;43m.\u001b[39;49m\u001b[43mio\u001b[49m\u001b[38;5;241;43m.\u001b[39;49m\u001b[43mread_video_metadata\u001b[49m\n",
      "\u001b[0;31mAttributeError\u001b[0m: module 'torchvision.io' has no attribute 'read_video_metadata'"
     ]
    }
   ],
   "source": [
    "import torchvision\n",
    "\n",
    "torchvision.io.read_video_metadata"
   ]
  },
  {
   "cell_type": "code",
   "execution_count": 8,
   "metadata": {},
   "outputs": [
    {
     "name": "stderr",
     "output_type": "stream",
     "text": [
      "/data/home/antoni/miniconda3/envs/svd/lib/python3.10/site-packages/torch/nn/utils/weight_norm.py:30: UserWarning: torch.nn.utils.weight_norm is deprecated in favor of torch.nn.utils.parametrizations.weight_norm.\n",
      "  warnings.warn(\"torch.nn.utils.weight_norm is deprecated in favor of torch.nn.utils.parametrizations.weight_norm.\")\n"
     ]
    },
    {
     "name": "stdout",
     "output_type": "stream",
     "text": [
      "original sr 16000\n",
      "torch.Size([2011819])\n",
      "torch.Size([1, 16000])\n",
      "torch.Size([1, 16000])\n",
      "Outputs are equal\n",
      "Max difference: 0.0\n",
      "Mean difference: 0.0\n",
      "Time with None mask: 0.300119 seconds\n",
      "Time with zero mask: 0.497740 seconds\n",
      "Time difference: 0.197621 seconds\n"
     ]
    }
   ],
   "source": [
    "import torch\n",
    "import time\n",
    "import torchaudio\n",
    "import sys\n",
    "sys.path.append(\"..\")\n",
    "from scripts.util.audio.BEATs import BEATWrapper\n",
    "\n",
    "def load_audio(file_path, target_sr=16000):\n",
    "    waveform, sr = torchaudio.load(file_path)\n",
    "    print(\"original sr\", sr)\n",
    "    if sr != target_sr:\n",
    "        waveform = torchaudio.functional.resample(waveform, sr, target_sr)\n",
    "    return waveform.squeeze(0)\n",
    "\n",
    "def process_audio(model, audio, padding_mask, fbank_mean: float = 15.41663,\n",
    "        fbank_std: float = 6.55582,\n",
    "        preprocess: bool = True,\n",
    "            return_embedding: bool = True,):\n",
    "    start_time = time.time()\n",
    "    if audio.dim() == 1:\n",
    "        audio = audio.unsqueeze(0)\n",
    "    with torch.no_grad():\n",
    "        print(audio.shape)\n",
    "        output = model.beats.extract_features(\n",
    "            audio,\n",
    "            padding_mask,\n",
    "            fbank_mean,\n",
    "            fbank_std,\n",
    "            preprocess,\n",
    "            return_embedding,\n",
    "        )[0]\n",
    "    end_time = time.time()\n",
    "    return output, end_time - start_time\n",
    "\n",
    "def compare_outputs(output1, output2, tolerance=1e-6):\n",
    "    diff = torch.abs(output1 - output2)\n",
    "    max_diff = torch.max(diff).item()\n",
    "    mean_diff = torch.mean(diff).item()\n",
    "    return max_diff <= tolerance, max_diff, mean_diff\n",
    "\n",
    "# Load and initialize the BEATWrapper\n",
    "model = BEATWrapper(fine_tuned=True, feed_as_frames=False, model_path=\"/data/home/antoni/code/generative-models/checkpoints/BEATs_iter3_plus_AS2M_finetuned_on_AS2M_cpt2.pt\")\n",
    "model.eval()\n",
    "\n",
    "# Load an audio file\n",
    "audio_path = \"/fsx/behavioural_computing_data/face_generation_data/AA_processed/part_22/audio/D058_C042_07318F_001.wav\"\n",
    "audio = load_audio(audio_path)\n",
    "print(audio.shape)\n",
    "\n",
    "# Ensure audio length is a multiple of 2 (required by the wrapper)\n",
    "if audio.size(0) % 2 != 0:\n",
    "    audio = audio[:-1]\n",
    "\n",
    "audio = audio[:16000]\n",
    "# Process with None padding mask\n",
    "output_none, time_none = process_audio(model, audio, padding_mask=None)\n",
    "\n",
    "# Process with zero tensor padding mask\n",
    "zero_mask = torch.zeros((1, audio.size(0))).bool()\n",
    "output_zero, time_zero = process_audio(model, audio, padding_mask=zero_mask)\n",
    "\n",
    "# Compare results\n",
    "is_equal, max_diff, mean_diff = compare_outputs(output_none, output_zero)\n",
    "\n",
    "print(f\"Outputs are {'equal' if is_equal else 'different'}\")\n",
    "print(f\"Max difference: {max_diff}\")\n",
    "print(f\"Mean difference: {mean_diff}\")\n",
    "print(f\"Time with None mask: {time_none:.6f} seconds\")\n",
    "print(f\"Time with zero mask: {time_zero:.6f} seconds\")\n",
    "print(f\"Time difference: {time_zero - time_none:.6f} seconds\")"
   ]
  },
  {
   "cell_type": "code",
   "execution_count": 7,
   "metadata": {},
   "outputs": [
    {
     "data": {
      "text/plain": [
       "torch.Size([1, 48, 768])"
      ]
     },
     "execution_count": 7,
     "metadata": {},
     "output_type": "execute_result"
    }
   ],
   "source": [
    "output_zero.shape\n",
    "output_none.shape\n"
   ]
  }
 ],
 "metadata": {
  "kernelspec": {
   "display_name": "svd",
   "language": "python",
   "name": "python3"
  },
  "language_info": {
   "codemirror_mode": {
    "name": "ipython",
    "version": 3
   },
   "file_extension": ".py",
   "mimetype": "text/x-python",
   "name": "python",
   "nbconvert_exporter": "python",
   "pygments_lexer": "ipython3",
   "version": "3.10.13"
  }
 },
 "nbformat": 4,
 "nbformat_minor": 2
}
