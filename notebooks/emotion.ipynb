{
 "cells": [
  {
   "cell_type": "code",
   "execution_count": 2,
   "metadata": {},
   "outputs": [
    {
     "name": "stdout",
     "output_type": "stream",
     "text": [
      "dict_keys(['labels', 'valence', 'arousal', 'scores'])\n",
      "labels\n",
      "torch.Size([3479])\n",
      "valence\n",
      "torch.Size([3479])\n",
      "arousal\n",
      "torch.Size([3479])\n",
      "scores\n",
      "torch.Size([3479, 8])\n"
     ]
    }
   ],
   "source": [
    "import torch\n",
    "\n",
    "# Load emotion \n",
    "emotion = torch.load(\"/fsx/behavioural_computing_data/face_generation_data/AA_processed/part_22/emotions/D333_C031_1006VO_001_output_output.pt\")\n",
    "print(emotion.keys())\n",
    "for key in emotion.keys():\n",
    "    print(key)\n",
    "    print(emotion[key].shape)\n",
    "    \n"
   ]
  },
  {
   "cell_type": "code",
   "execution_count": 4,
   "metadata": {},
   "outputs": [
    {
     "name": "stdout",
     "output_type": "stream",
     "text": [
      "tensor(0.2467)\n",
      "tensor(-0.3127)\n",
      "tensor(0.4399)\n",
      "tensor(-0.1810)\n"
     ]
    }
   ],
   "source": [
    "print(emotion[\"valence\"].max())\n",
    "print(emotion[\"valence\"].min())\n",
    "print(emotion[\"arousal\"].max())\n",
    "print(emotion[\"arousal\"].min())"
   ]
  }
 ],
 "metadata": {
  "kernelspec": {
   "display_name": "svd",
   "language": "python",
   "name": "python3"
  },
  "language_info": {
   "codemirror_mode": {
    "name": "ipython",
    "version": 3
   },
   "file_extension": ".py",
   "mimetype": "text/x-python",
   "name": "python",
   "nbconvert_exporter": "python",
   "pygments_lexer": "ipython3",
   "version": "3.10.13"
  }
 },
 "nbformat": 4,
 "nbformat_minor": 2
}
