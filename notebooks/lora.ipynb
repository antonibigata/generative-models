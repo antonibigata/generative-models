{
 "cells": [
  {
   "cell_type": "code",
   "execution_count": 1,
   "metadata": {},
   "outputs": [
    {
     "name": "stderr",
     "output_type": "stream",
     "text": [
      "/vol/paramonos2/projects/antoni/miniconda3/envs/svd/lib/python3.10/site-packages/tqdm/auto.py:21: TqdmWarning: IProgress not found. Please update jupyter and ipywidgets. See https://ipywidgets.readthedocs.io/en/stable/user_install.html\n",
      "  from .autonotebook import tqdm as notebook_tqdm\n"
     ]
    },
    {
     "name": "stdout",
     "output_type": "stream",
     "text": [
      "{'model': {'base_learning_rate': 3e-05, 'target': 'sgm.models.diffusion.DiffusionEngine', 'params': {'input_key': 'latents', 'no_log_keys': ['audio_emb', 'fps_id', 'motion_bucket_id', 'cond_aug'], 'scale_factor': 0.18215, 'disable_first_stage_autocast': True, 'ckpt_path': 'checkpoints/svd.safetensors', 'use_lora': True, 'lora_config': {'target_replace_module': ['SpatialVideoTransformer'], 'r': 16, 'loras': None, 'verbose': False, 'dropout_p': 0.0, 'scale': 1.0}, 'denoiser_config': {'target': 'sgm.modules.diffusionmodules.denoiser.Denoiser', 'params': {'scaling_config': {'target': 'sgm.modules.diffusionmodules.denoiser_scaling.VScalingWithEDMcNoise'}}}, 'network_config': {'target': 'sgm.modules.diffusionmodules.video_model.VideoUNet', 'params': {'adm_in_channels': 768, 'num_classes': 'sequential', 'use_checkpoint': True, 'in_channels': 8, 'out_channels': 4, 'model_channels': 320, 'attention_resolutions': [4, 2, 1], 'num_res_blocks': 2, 'channel_mult': [1, 2, 4, 4], 'num_head_channels': 64, 'use_linear_in_transformer': True, 'transformer_depth': 1, 'context_dim': 1024, 'spatial_transformer_attn_type': 'softmax-xformers', 'extra_ff_mix_layer': True, 'use_spatial_context': True, 'merge_strategy': 'learned_with_images', 'video_kernel_size': [3, 1, 1], 'fine_tuning_method': 'lora', 'adapter_kwargs': {'target_replace_module': ['SpatialVideoTransformer'], 'r': 16, 'loras': None, 'verbose': False, 'dropout_p': 0.0, 'scale': 1.0}}}, 'conditioner_config': {'target': 'sgm.modules.GeneralConditioner', 'params': {'emb_models': [{'is_trainable': False, 'input_key': 'cond_frames_without_noise', 'target': 'sgm.modules.encoders.modules.FrozenOpenCLIPImagePredictionEmbedder', 'params': {'n_cond_frames': 1, 'n_copies': 1, 'open_clip_embedding_config': {'target': 'sgm.modules.encoders.modules.FrozenOpenCLIPImageEmbedder', 'params': {'freeze': True}}}}, {'input_key': 'fps_id', 'is_trainable': False, 'target': 'sgm.modules.encoders.modules.ConcatTimestepEmbedderND', 'params': {'outdim': 256}}, {'input_key': 'motion_bucket_id', 'is_trainable': False, 'target': 'sgm.modules.encoders.modules.ConcatTimestepEmbedderND', 'params': {'outdim': 256}}, {'input_key': 'cond_frames', 'is_trainable': False, 'target': 'sgm.modules.encoders.modules.VideoPredictionEmbedderWithEncoder', 'params': {'disable_encoder_autocast': True, 'n_cond_frames': 1, 'n_copies': 1, 'is_ae': True, 'encoder_config': {'target': 'sgm.models.autoencoder.AutoencoderKLModeOnly', 'params': {'embed_dim': 4, 'monitor': 'val/rec_loss', 'ddconfig': {'attn_type': 'vanilla-xformers', 'double_z': True, 'z_channels': 4, 'resolution': 256, 'in_channels': 3, 'out_ch': 3, 'ch': 128, 'ch_mult': [1, 2, 4, 4], 'num_res_blocks': 2, 'attn_resolutions': [], 'dropout': 0.0}, 'lossconfig': {'target': 'torch.nn.Identity'}}}}}, {'input_key': 'cond_aug', 'is_trainable': False, 'target': 'sgm.modules.encoders.modules.ConcatTimestepEmbedderND', 'params': {'outdim': 256}}, {'input_key': 'audio_emb', 'is_trainable': True, 'target': 'sgm.modules.encoders.modules.WhisperAudioEmbedder', 'params': {'merge_method': 'mean', 'linear_dim': None}}]}}, 'first_stage_config': {'target': 'sgm.models.autoencoder.AutoencodingEngine', 'params': {'loss_config': {'target': 'torch.nn.Identity'}, 'regularizer_config': {'target': 'sgm.modules.autoencoding.regularizers.DiagonalGaussianRegularizer'}, 'encoder_config': {'target': 'sgm.modules.diffusionmodules.model.Encoder', 'params': {'attn_type': 'vanilla', 'double_z': True, 'z_channels': 4, 'resolution': 256, 'in_channels': 3, 'out_ch': 3, 'ch': 128, 'ch_mult': [1, 2, 4, 4], 'num_res_blocks': 2, 'attn_resolutions': [], 'dropout': 0.0}}, 'decoder_config': {'target': 'sgm.modules.autoencoding.temporal_ae.VideoDecoder', 'params': {'attn_type': 'vanilla', 'double_z': True, 'z_channels': 4, 'resolution': 256, 'in_channels': 3, 'out_ch': 3, 'ch': 128, 'ch_mult': [1, 2, 4, 4], 'num_res_blocks': 2, 'attn_resolutions': [], 'dropout': 0.0, 'video_kernel_size': [3, 1, 1]}}}}, 'sampler_config': {'target': 'sgm.modules.diffusionmodules.sampling.EulerEDMSampler', 'params': {'num_steps': 25, 'discretization_config': {'target': 'sgm.modules.diffusionmodules.discretizer.EDMDiscretization', 'params': {'sigma_max': 700.0}}, 'guider_config': {'target': 'sgm.modules.diffusionmodules.guiders.LinearPredictionGuider', 'params': {'max_scale': 2.5, 'min_scale': 1.0, 'num_frames': 14}}}}, 'loss_fn_config': {'target': 'sgm.modules.diffusionmodules.loss.StandardDiffusionLoss', 'params': {'batch2model_keys': ['image_only_indicator', 'num_video_frames'], 'loss_weighting_config': {'target': 'sgm.modules.diffusionmodules.loss_weighting.EpsWeighting'}, 'sigma_sampler_config': {'target': 'sgm.modules.diffusionmodules.sigma_sampling.EDMSampling', 'params': {'p_mean': 0.7, 'p_std': 1.6}}}}}}, 'data': {'target': 'sgm.data.video_datamodule_latent.VideoDataModule', 'params': {'train': {'datapipeline': {'filelist': '/vol/paramonos2/projects/antoni/datasets/HDTF/filelist_videos_train.txt', 'resize_size': 512, 'audio_folder': 'audio', 'video_folder': 'cropped_videos_original', 'video_extension': '.mp4', 'audio_extension': '.wav', 'audio_rate': 16000, 'num_frames': 14, 'need_cond': False, 'mode': 'prediction', 'use_latent': True, 'latent_type': 'video', 'latent_scale': 1, 'from_audio_embedding': True, 'load_all_possible_indexes': True, 'audio_emb_type': 'whisper', 'cond_noise': [-3.0, 0.5], 'motion_id': 255.0, 'data_mean': None, 'data_std': None}, 'loader': {'batch_size': 1, 'num_workers': 6, 'drop_last': True, 'pin_memory': True, 'persistent_workers': True}}}}, 'lightning': {'modelcheckpoint': {'params': {'every_n_train_steps': 5000, 'save_top_k': 1}}, 'callbacks': {'metrics_over_trainsteps_checkpoint': {'params': {'every_n_train_steps': 25000}}, 'video_logger': {'target': 'sgm.callbacks.video_logger.VideoLogger', 'params': {'disabled': False, 'enable_autocast': False, 'batch_frequency': 1000, 'max_videos': 2, 'increase_log_steps': False, 'log_first_step': True, 'log_videos_kwargs': {'use_ema_scope': False, 'N': 2, 'n_rows': 1}}}}, 'trainer': {'devices': '4,', 'benchmark': False, 'num_sanity_val_steps': 1, 'accumulate_grad_batches': 1, 'max_epochs': 1000}}}\n",
      "VideoTransformerBlock is using checkpointing\n",
      "VideoTransformerBlock is using checkpointing\n",
      "VideoTransformerBlock is using checkpointing\n",
      "VideoTransformerBlock is using checkpointing\n",
      "VideoTransformerBlock is using checkpointing\n",
      "VideoTransformerBlock is using checkpointing\n",
      "VideoTransformerBlock is using checkpointing\n",
      "VideoTransformerBlock is using checkpointing\n",
      "VideoTransformerBlock is using checkpointing\n",
      "VideoTransformerBlock is using checkpointing\n",
      "VideoTransformerBlock is using checkpointing\n",
      "VideoTransformerBlock is using checkpointing\n",
      "VideoTransformerBlock is using checkpointing\n",
      "VideoTransformerBlock is using checkpointing\n",
      "VideoTransformerBlock is using checkpointing\n",
      "VideoTransformerBlock is using checkpointing\n",
      "Initialized embedder #0: FrozenOpenCLIPImagePredictionEmbedder with 683800065 params. Trainable: False\n",
      "Initialized embedder #1: ConcatTimestepEmbedderND with 0 params. Trainable: False\n",
      "Initialized embedder #2: ConcatTimestepEmbedderND with 0 params. Trainable: False\n",
      "Initialized embedder #3: VideoPredictionEmbedderWithEncoder with 83653863 params. Trainable: False\n",
      "Initialized embedder #4: ConcatTimestepEmbedderND with 0 params. Trainable: False\n",
      "Initialized embedder #5: WhisperAudioEmbedder with 0 params. Trainable: True\n",
      "Restored from /vol/paramonos2/projects/antoni/code/Personal/generative-models/checkpoints/svd.safetensors with 0 missing and 0 unexpected keys\n"
     ]
    }
   ],
   "source": [
    "import sys\n",
    "\n",
    "sys.path.append(\"..\")\n",
    "from omegaconf import OmegaConf\n",
    "from sgm.util import instantiate_from_config\n",
    "\n",
    "config = OmegaConf.load(\n",
    "    \"/vol/paramonos2/projects/antoni/code/Personal/generative-models/configs/example_training/svd_training.yaml\"\n",
    ")\n",
    "print(config)\n",
    "config[\"model\"][\"params\"][\n",
    "    \"ckpt_path\"\n",
    "] = \"/vol/paramonos2/projects/antoni/code/Personal/generative-models/checkpoints/svd.safetensors\"\n",
    "config[\"model\"][\"params\"][\"network_config\"][\"params\"][\"fine_tuning_method\"] = None\n",
    "model = instantiate_from_config(config.model)"
   ]
  },
  {
   "cell_type": "code",
   "execution_count": null,
   "metadata": {},
   "outputs": [],
   "source": [
    "from safetensors.torch import load_file\n",
    "\n",
    "model_ckpt = load_file(\"../checkpoints/svd.safetensors\")\n",
    "\n",
    "print(model_ckpt.keys())"
   ]
  },
  {
   "cell_type": "code",
   "execution_count": 2,
   "metadata": {},
   "outputs": [],
   "source": [
    "unet = model.model.diffusion_model"
   ]
  },
  {
   "cell_type": "code",
   "execution_count": null,
   "metadata": {},
   "outputs": [],
   "source": [
    "from sgm.modules.diffusionmodules.adapters.lora import apply_lora\n",
    "import torch\n",
    "\n",
    "# activate_lora = add_lora_to(unet, [\"SpatialVideoTransformer\"], search_class=[torch.nn.Linear], r=32, dropout=0, lora_bias=\"none\")\n",
    "apply_lora(unet, filters=[\".input_blocks\"], rank=16, all_modules_in_filter=True)"
   ]
  },
  {
   "cell_type": "code",
   "execution_count": null,
   "metadata": {},
   "outputs": [],
   "source": [
    "from sgm.modules.diffusionmodules.adapters.lora import LoRA\n",
    "\n",
    "lora = {}\n",
    "lora[\"weights\"] = torch.nn.ModuleList()\n",
    "for module in unet.modules():\n",
    "    if isinstance(module, LoRA) or (\n",
    "        hasattr(module, \"_fsdp_wrapped_module\") and isinstance(module._fsdp_wrapped_module, LoRA)\n",
    "    ):\n",
    "        print(module.requires_grad_())\n",
    "        lora[\"weights\"].append(module)"
   ]
  },
  {
   "cell_type": "code",
   "execution_count": null,
   "metadata": {},
   "outputs": [],
   "source": [
    "lora"
   ]
  },
  {
   "cell_type": "code",
   "execution_count": null,
   "metadata": {},
   "outputs": [],
   "source": [
    "for param in unet.parameters():\n",
    "    if param.requires_grad:\n",
    "        print(\"requires grad\")\n",
    "    else:\n",
    "        print(\"does not require grad\")"
   ]
  },
  {
   "cell_type": "code",
   "execution_count": null,
   "metadata": {},
   "outputs": [],
   "source": [
    "for p in unet.input_blocks[0].parameters():\n",
    "    print(p)"
   ]
  },
  {
   "cell_type": "code",
   "execution_count": null,
   "metadata": {},
   "outputs": [],
   "source": [
    "for name, module in unet.named_modules():\n",
    "    print(name)"
   ]
  },
  {
   "cell_type": "code",
   "execution_count": 4,
   "metadata": {},
   "outputs": [],
   "source": [
    "from sgm.modules.diffusionmodules.adapters.lora import get_module_names\n",
    "\n",
    "module_names = get_module_names(unet, filters=[\".transformer_blocks\"], all_modules_in_filter=True)"
   ]
  },
  {
   "cell_type": "code",
   "execution_count": 5,
   "metadata": {},
   "outputs": [],
   "source": [
    "from peft import LoraModel, LoraConfig\n",
    "\n",
    "lora_config = LoraConfig(\n",
    "    inference_mode=False,\n",
    "    r=8,\n",
    "    lora_alpha=32,\n",
    "    lora_dropout=0.1,\n",
    "    target_modules=module_names,\n",
    ")\n",
    "lora_unet = LoraModel(unet, lora_config, \"bite\")"
   ]
  },
  {
   "cell_type": "code",
   "execution_count": 14,
   "metadata": {},
   "outputs": [
    {
     "ename": "AttributeError",
     "evalue": "'TimestepEmbedSequential' object has no attribute 'disable_adapter'",
     "output_type": "error",
     "traceback": [
      "\u001b[0;31m---------------------------------------------------------------------------\u001b[0m",
      "\u001b[0;31mAttributeError\u001b[0m                            Traceback (most recent call last)",
      "Cell \u001b[0;32mIn[14], line 1\u001b[0m\n\u001b[0;32m----> 1\u001b[0m \u001b[43mlora_unet\u001b[49m\u001b[38;5;241;43m.\u001b[39;49m\u001b[43minput_blocks\u001b[49m\u001b[43m[\u001b[49m\u001b[38;5;241;43m4\u001b[39;49m\u001b[43m]\u001b[49m\u001b[38;5;241;43m.\u001b[39;49m\u001b[43mdisable_adapter\u001b[49m()\n",
      "File \u001b[0;32m/vol/paramonos2/projects/antoni/miniconda3/envs/svd/lib/python3.10/site-packages/torch/nn/modules/module.py:1695\u001b[0m, in \u001b[0;36mModule.__getattr__\u001b[0;34m(self, name)\u001b[0m\n\u001b[1;32m   1693\u001b[0m     \u001b[38;5;28;01mif\u001b[39;00m name \u001b[38;5;129;01min\u001b[39;00m modules:\n\u001b[1;32m   1694\u001b[0m         \u001b[38;5;28;01mreturn\u001b[39;00m modules[name]\n\u001b[0;32m-> 1695\u001b[0m \u001b[38;5;28;01mraise\u001b[39;00m \u001b[38;5;167;01mAttributeError\u001b[39;00m(\u001b[38;5;124mf\u001b[39m\u001b[38;5;124m\"\u001b[39m\u001b[38;5;124m'\u001b[39m\u001b[38;5;132;01m{\u001b[39;00m\u001b[38;5;28mtype\u001b[39m(\u001b[38;5;28mself\u001b[39m)\u001b[38;5;241m.\u001b[39m\u001b[38;5;18m__name__\u001b[39m\u001b[38;5;132;01m}\u001b[39;00m\u001b[38;5;124m'\u001b[39m\u001b[38;5;124m object has no attribute \u001b[39m\u001b[38;5;124m'\u001b[39m\u001b[38;5;132;01m{\u001b[39;00mname\u001b[38;5;132;01m}\u001b[39;00m\u001b[38;5;124m'\u001b[39m\u001b[38;5;124m\"\u001b[39m)\n",
      "\u001b[0;31mAttributeError\u001b[0m: 'TimestepEmbedSequential' object has no attribute 'disable_adapter'"
     ]
    }
   ],
   "source": [
    "lora_unet.input_blocks[4].disable_adapter()"
   ]
  }
 ],
 "metadata": {
  "kernelspec": {
   "display_name": "svd",
   "language": "python",
   "name": "python3"
  },
  "language_info": {
   "codemirror_mode": {
    "name": "ipython",
    "version": 3
   },
   "file_extension": ".py",
   "mimetype": "text/x-python",
   "name": "python",
   "nbconvert_exporter": "python",
   "pygments_lexer": "ipython3",
   "version": "3.10.13"
  }
 },
 "nbformat": 4,
 "nbformat_minor": 2
}
