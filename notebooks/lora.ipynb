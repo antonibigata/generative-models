{
 "cells": [
  {
   "cell_type": "code",
   "execution_count": null,
   "metadata": {},
   "outputs": [],
   "source": [
    "import sys\n",
    "\n",
    "sys.path.append(\"..\")\n",
    "from omegaconf import OmegaConf\n",
    "from sgm.util import instantiate_from_config\n",
    "\n",
    "config = OmegaConf.load(\n",
    "    \"/vol/paramonos2/projects/antoni/code/Personal/generative-models/configs/example_training/svd_interpolation.yaml\"\n",
    ")\n",
    "print(config)\n",
    "config[\"model\"][\"params\"][\"ckpt_path\"] = (\n",
    "    \"/vol/paramonos2/projects/antoni/code/Personal/generative-models/checkpoints/svd.safetensors\"\n",
    ")\n",
    "config[\"model\"][\"params\"][\"network_config\"][\"params\"][\"fine_tuning_method\"] = None\n",
    "model = instantiate_from_config(config.model)"
   ]
  },
  {
   "cell_type": "code",
   "execution_count": null,
   "metadata": {},
   "outputs": [],
   "source": [
    "for name, p in model.named_parameters():\n",
    "    if \"time_\" in name:\n",
    "        print(name, p.shape)"
   ]
  },
  {
   "cell_type": "code",
   "execution_count": null,
   "metadata": {},
   "outputs": [],
   "source": [
    "from safetensors.torch import load_file\n",
    "\n",
    "model_ckpt = load_file(\"../checkpoints/svd.safetensors\")\n",
    "\n",
    "print(model_ckpt.keys())"
   ]
  },
  {
   "cell_type": "code",
   "execution_count": null,
   "metadata": {},
   "outputs": [],
   "source": [
    "unet = model.model.diffusion_model"
   ]
  },
  {
   "cell_type": "code",
   "execution_count": null,
   "metadata": {},
   "outputs": [],
   "source": [
    "from sgm.modules.diffusionmodules.adapters.lora import apply_lora\n",
    "import torch\n",
    "\n",
    "# activate_lora = add_lora_to(unet, [\"SpatialVideoTransformer\"], search_class=[torch.nn.Linear], r=32, dropout=0, lora_bias=\"none\")\n",
    "apply_lora(unet, filters=[\".input_blocks\"], rank=16, all_modules_in_filter=True)"
   ]
  },
  {
   "cell_type": "code",
   "execution_count": null,
   "metadata": {},
   "outputs": [],
   "source": [
    "from sgm.modules.diffusionmodules.adapters.lora import LoRA\n",
    "\n",
    "lora = {}\n",
    "lora[\"weights\"] = torch.nn.ModuleList()\n",
    "for module in unet.modules():\n",
    "    if isinstance(module, LoRA) or (\n",
    "        hasattr(module, \"_fsdp_wrapped_module\") and isinstance(module._fsdp_wrapped_module, LoRA)\n",
    "    ):\n",
    "        print(module.requires_grad_())\n",
    "        lora[\"weights\"].append(module)"
   ]
  },
  {
   "cell_type": "code",
   "execution_count": null,
   "metadata": {},
   "outputs": [],
   "source": [
    "lora"
   ]
  },
  {
   "cell_type": "code",
   "execution_count": null,
   "metadata": {},
   "outputs": [],
   "source": [
    "for param in unet.parameters():\n",
    "    if param.requires_grad:\n",
    "        print(\"requires grad\")\n",
    "    else:\n",
    "        print(\"does not require grad\")"
   ]
  },
  {
   "cell_type": "code",
   "execution_count": null,
   "metadata": {},
   "outputs": [],
   "source": [
    "for p in unet.input_blocks[0].parameters():\n",
    "    print(p)"
   ]
  },
  {
   "cell_type": "code",
   "execution_count": null,
   "metadata": {},
   "outputs": [],
   "source": [
    "for name, module in unet.named_modules():\n",
    "    print(name)"
   ]
  },
  {
   "cell_type": "code",
   "execution_count": null,
   "metadata": {},
   "outputs": [],
   "source": [
    "from sgm.modules.diffusionmodules.adapters.lora import get_module_names\n",
    "\n",
    "module_names = get_module_names(unet, filters=[\".transformer_blocks\"], all_modules_in_filter=True)"
   ]
  },
  {
   "cell_type": "code",
   "execution_count": null,
   "metadata": {},
   "outputs": [],
   "source": [
    "from peft import LoraModel, LoraConfig\n",
    "\n",
    "lora_config = LoraConfig(\n",
    "    inference_mode=False,\n",
    "    r=8,\n",
    "    lora_alpha=32,\n",
    "    lora_dropout=0.1,\n",
    "    target_modules=module_names,\n",
    ")\n",
    "lora_unet = LoraModel(unet, lora_config, \"bite\")"
   ]
  },
  {
   "cell_type": "code",
   "execution_count": null,
   "metadata": {},
   "outputs": [],
   "source": [
    "lora_unet.input_blocks[4].disable_adapter()"
   ]
  }
 ],
 "metadata": {
  "kernelspec": {
   "display_name": "svd",
   "language": "python",
   "name": "python3"
  },
  "language_info": {
   "codemirror_mode": {
    "name": "ipython",
    "version": 3
   },
   "file_extension": ".py",
   "mimetype": "text/x-python",
   "name": "python",
   "nbconvert_exporter": "python",
   "pygments_lexer": "ipython3",
   "version": "3.10.13"
  }
 },
 "nbformat": 4,
 "nbformat_minor": 2
}
