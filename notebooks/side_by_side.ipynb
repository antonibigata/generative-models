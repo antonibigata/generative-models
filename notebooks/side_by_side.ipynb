{
 "cells": [
  {
   "cell_type": "code",
   "execution_count": null,
   "metadata": {},
   "outputs": [],
   "source": [
    "from moviepy.editor import VideoFileClip, clips_array\n",
    "\n",
    "# List to store the video clips\n",
    "video_clips = []\n",
    "\n",
    "# Add the videos to the list\n",
    "video_clips.append(VideoFileClip(\"/data/home/antoni/code/generative-models/outputs/simple_dub_sample/svd/000015.mp4\"))\n",
    "video_clips.append(VideoFileClip(\"/data/home/antoni/code/generative-models/outputs/simple_dub_sample/svd/000011.mp4\"))\n",
    "# video_clips.append(VideoFileClip(\"/data/home/antoni/code/generative-models/outputs/simple_dub_sample/svd/000011_gt.mp4\"))\n",
    "\n",
    "# Ensure the videos have the same duration(optional)\n",
    "min_duration = min([clip.duration for clip in video_clips])\n",
    "video_clips = [clip.subclip(1, min_duration) for clip in video_clips]\n",
    "\n",
    "# Concatenate videos side by side\n",
    "concatenated = clips_array([[clip] for clip in video_clips])\n",
    "\n",
    "# Display the concatenated video directly in the notebook\n",
    "concatenated.ipython_display()"
   ]
  }
 ],
 "metadata": {
  "kernelspec": {
   "display_name": "svd",
   "language": "python",
   "name": "python3"
  },
  "language_info": {
   "codemirror_mode": {
    "name": "ipython",
    "version": 3
   },
   "file_extension": ".py",
   "mimetype": "text/x-python",
   "name": "python",
   "nbconvert_exporter": "python",
   "pygments_lexer": "ipython3",
   "version": "3.10.13"
  }
 },
 "nbformat": 4,
 "nbformat_minor": 2
}
