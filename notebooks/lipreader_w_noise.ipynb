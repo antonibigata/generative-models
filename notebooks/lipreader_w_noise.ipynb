{
 "cells": [
  {
   "cell_type": "code",
   "execution_count": null,
   "metadata": {},
   "outputs": [],
   "source": [
    "import sys\n",
    "\n",
    "sys.path.append(\"../\")\n",
    "from sgm.modules.lipreader.lightnining import ModelModule\n",
    "import torch\n",
    "\n",
    "\n",
    "def get_lightning_module(ckpt_path):\n",
    "    modelmodule = ModelModule()\n",
    "    modelmodule.model.load_state_dict(torch.load(ckpt_path, map_location=lambda storage, loc: storage))\n",
    "    return modelmodule\n",
    "\n",
    "\n",
    "ckpt_path = \"/data/home/antoni/code/generative-models/checkpoints/vsr_trlrs3_base.max400.pth\"\n",
    "model = get_lightning_module(ckpt_path)\n",
    "model.eval()"
   ]
  },
  {
   "cell_type": "code",
   "execution_count": null,
   "metadata": {},
   "outputs": [],
   "source": []
  },
  {
   "cell_type": "code",
   "execution_count": null,
   "metadata": {},
   "outputs": [],
   "source": [
    "import sys\n",
    "\n",
    "sys.path.append(\"../\")\n",
    "import numpy as np\n",
    "import torch\n",
    "import torchvision\n",
    "from sgm.modules.lipreader.preparation.detectors.retinaface.video_process import VideoProcess\n",
    "from sgm.modules.lipreader.datamodule.transforms import VideoTransform\n",
    "\n",
    "video_transform = VideoTransform(subset=\"val\", max_noise_level=250, center_crop_size=11)\n",
    "video_process = VideoProcess(\n",
    "    convert_gray=False, crop_width=96 // 8, crop_height=96 // 8, reference_size=(64, 64), target_size=(64, 64)\n",
    ")\n",
    "video_path = \"/fsx/rs2517/data/HDTF/cropped_videos_original/RD_Radio18_000.mp4\"\n",
    "video = torchvision.io.read_video(video_path, pts_unit=\"sec\", output_format=\"TCHW\")[0]\n",
    "or_shape = video.shape[-2:]\n",
    "video = torch.nn.functional.interpolate(video, size=(64, 64)).permute(0, 2, 3, 1).numpy()\n",
    "print(video.shape)\n",
    "landmarks = np.load(\"/fsx/rs2517/data/HDTF/cropped_videos_original/RD_Radio18_000.npy\")"
   ]
  },
  {
   "cell_type": "code",
   "execution_count": null,
   "metadata": {},
   "outputs": [],
   "source": [
    "pad = 10\n",
    "xmouthpoints = (crop // 8)[48:67, 0]\n",
    "ymouthpoints = (crop // 8)[48:67, 1]\n",
    "maxx = np.max(xmouthpoints)\n",
    "minx = np.min(xmouthpoints)\n",
    "maxy = np.max(ymouthpoints)\n",
    "miny = np.min(ymouthpoints)\n",
    "print(maxx, minx, maxy, miny)\n",
    "print(miny - pad, maxy + pad, minx - pad, maxx + pad)"
   ]
  },
  {
   "cell_type": "code",
   "execution_count": null,
   "metadata": {},
   "outputs": [],
   "source": [
    "_, crop = video_process.crop_patch(video, landmarks, return_bbox=True, threshold=30)"
   ]
  },
  {
   "cell_type": "code",
   "execution_count": null,
   "metadata": {},
   "outputs": [],
   "source": [
    "crop"
   ]
  },
  {
   "cell_type": "code",
   "execution_count": 1,
   "metadata": {},
   "outputs": [
    {
     "name": "stderr",
     "output_type": "stream",
     "text": [
      "/data/home/antoni/miniconda3/envs/svd/lib/python3.10/site-packages/tqdm/auto.py:21: TqdmWarning: IProgress not found. Please update jupyter and ipywidgets. See https://ipywidgets.readthedocs.io/en/stable/user_install.html\n",
      "  from .autonotebook import tqdm as notebook_tqdm\n",
      "/data/home/antoni/miniconda3/envs/svd/lib/python3.10/site-packages/torch/cuda/__init__.py:611: UserWarning: Can't initialize NVML\n",
      "  warnings.warn(\"Can't initialize NVML\")\n"
     ]
    }
   ],
   "source": [
    "import sys\n",
    "\n",
    "sys.path.append(\"../\")\n",
    "from sgm.data.data_utils import scale_landmarks\n",
    "import numpy as np\n",
    "import torch\n",
    "import torchvision\n",
    "from sgm.modules.lipreader.preparation.detectors.retinaface.video_process import VideoProcess\n",
    "from sgm.modules.lipreader.datamodule.transforms import VideoTransform\n",
    "\n",
    "\n",
    "from sgm.modules.lipreader.lightnining import ModelModule\n",
    "import torch\n",
    "\n",
    "\n",
    "video_transform = VideoTransform(subset=\"loss\", max_noise_level=250)\n",
    "video_process = VideoProcess(convert_gray=False)\n",
    "\n",
    "video_path = \"/fsx/rs2517/data/HDTF/cropped_videos_original/RD_Radio18_000.mp4\"\n",
    "video = torchvision.io.read_video(video_path, pts_unit=\"sec\", output_format=\"TCHW\")[0]\n",
    "or_shape = video.shape[-2:]\n",
    "video = torch.nn.functional.interpolate(video, size=(512, 512)).permute(0, 2, 3, 1)\n",
    "\n",
    "landmarks = np.load(\"/fsx/rs2517/data/HDTF/cropped_videos_original/RD_Radio18_000.npy\")\n",
    "landmarks = scale_landmarks(landmarks, (or_shape[0], or_shape[1]), (512, 512))"
   ]
  },
  {
   "cell_type": "code",
   "execution_count": 2,
   "metadata": {},
   "outputs": [
    {
     "data": {
      "text/plain": [
       "(torch.Size([1825, 512, 512, 3]), (1825, 68, 2))"
      ]
     },
     "execution_count": 2,
     "metadata": {},
     "output_type": "execute_result"
    }
   ],
   "source": [
    "video.shape, landmarks.shape"
   ]
  },
  {
   "cell_type": "code",
   "execution_count": 2,
   "metadata": {},
   "outputs": [
    {
     "ename": "RuntimeError",
     "evalue": "No CUDA GPUs are available",
     "output_type": "error",
     "traceback": [
      "\u001b[0;31m---------------------------------------------------------------------------\u001b[0m",
      "\u001b[0;31mRuntimeError\u001b[0m                              Traceback (most recent call last)",
      "Cell \u001b[0;32mIn[2], line 1\u001b[0m\n\u001b[0;32m----> 1\u001b[0m video_proccessed \u001b[38;5;241m=\u001b[39m video_process((\u001b[43mvideo\u001b[49m\u001b[43m[\u001b[49m\u001b[43m:\u001b[49m\u001b[38;5;241;43m14\u001b[39;49m\u001b[43m]\u001b[49m\u001b[38;5;241;43m.\u001b[39;49m\u001b[43mcuda\u001b[49m\u001b[43m(\u001b[49m\u001b[43m)\u001b[49m\u001b[38;5;241m.\u001b[39mpermute(\u001b[38;5;241m0\u001b[39m,\u001b[38;5;241m3\u001b[39m,\u001b[38;5;241m1\u001b[39m,\u001b[38;5;241m2\u001b[39m) \u001b[38;5;241m/\u001b[39m \u001b[38;5;241m255.0\u001b[39m) \u001b[38;5;241m*\u001b[39m \u001b[38;5;241m2\u001b[39m \u001b[38;5;241m-\u001b[39m \u001b[38;5;241m1\u001b[39m, torch\u001b[38;5;241m.\u001b[39mfrom_numpy(landmarks[:\u001b[38;5;241m14\u001b[39m])\u001b[38;5;241m.\u001b[39mfloat()\u001b[38;5;241m.\u001b[39mcuda(), \u001b[38;5;28;01mTrue\u001b[39;00m)\n\u001b[1;32m      2\u001b[0m video_proccessed\u001b[38;5;241m.\u001b[39mshape\n",
      "File \u001b[0;32m~/miniconda3/envs/svd/lib/python3.10/site-packages/torch/cuda/__init__.py:298\u001b[0m, in \u001b[0;36m_lazy_init\u001b[0;34m()\u001b[0m\n\u001b[1;32m    296\u001b[0m \u001b[38;5;28;01mif\u001b[39;00m \u001b[38;5;124m\"\u001b[39m\u001b[38;5;124mCUDA_MODULE_LOADING\u001b[39m\u001b[38;5;124m\"\u001b[39m \u001b[38;5;129;01mnot\u001b[39;00m \u001b[38;5;129;01min\u001b[39;00m os\u001b[38;5;241m.\u001b[39menviron:\n\u001b[1;32m    297\u001b[0m     os\u001b[38;5;241m.\u001b[39menviron[\u001b[38;5;124m\"\u001b[39m\u001b[38;5;124mCUDA_MODULE_LOADING\u001b[39m\u001b[38;5;124m\"\u001b[39m] \u001b[38;5;241m=\u001b[39m \u001b[38;5;124m\"\u001b[39m\u001b[38;5;124mLAZY\u001b[39m\u001b[38;5;124m\"\u001b[39m\n\u001b[0;32m--> 298\u001b[0m \u001b[43mtorch\u001b[49m\u001b[38;5;241;43m.\u001b[39;49m\u001b[43m_C\u001b[49m\u001b[38;5;241;43m.\u001b[39;49m\u001b[43m_cuda_init\u001b[49m\u001b[43m(\u001b[49m\u001b[43m)\u001b[49m\n\u001b[1;32m    299\u001b[0m \u001b[38;5;66;03m# Some of the queued calls may reentrantly call _lazy_init();\u001b[39;00m\n\u001b[1;32m    300\u001b[0m \u001b[38;5;66;03m# we need to just return without initializing in that case.\u001b[39;00m\n\u001b[1;32m    301\u001b[0m \u001b[38;5;66;03m# However, we must not let any *other* threads in!\u001b[39;00m\n\u001b[1;32m    302\u001b[0m _tls\u001b[38;5;241m.\u001b[39mis_initializing \u001b[38;5;241m=\u001b[39m \u001b[38;5;28;01mTrue\u001b[39;00m\n",
      "\u001b[0;31mRuntimeError\u001b[0m: No CUDA GPUs are available"
     ]
    }
   ],
   "source": [
    "video_proccessed = video_process(\n",
    "    (video[:14].cuda().permute(0, 3, 1, 2) / 255.0) * 2 - 1, torch.from_numpy(landmarks[:14]).float().cuda(), True\n",
    ")\n",
    "video_proccessed.shape"
   ]
  },
  {
   "cell_type": "code",
   "execution_count": 3,
   "metadata": {},
   "outputs": [
    {
     "name": "stdout",
     "output_type": "stream",
     "text": [
      "torch.Size([14, 1, 88, 88]) tensor([0])\n"
     ]
    }
   ],
   "source": [
    "# video_proccessed = video_process((video / 255.0) * 2 - 1, landmarks, True)\n",
    "# print(video_proccessed.shape)\n",
    "# video_proccessed = video_proccessed.permute((0, 3, 1, 2))\n",
    "video_proccessed, t = video_transform(video_proccessed)\n",
    "print(video_proccessed.shape, t)"
   ]
  },
  {
   "cell_type": "code",
   "execution_count": 6,
   "metadata": {},
   "outputs": [
    {
     "data": {
      "text/plain": [
       "ModelModule(\n",
       "  (model): E2E(\n",
       "    (encoder): Encoder(\n",
       "      (to_timestep_cond): Sequential(\n",
       "        (0): SinusoidalPosEmb()\n",
       "        (1): Linear(in_features=64, out_features=256, bias=True)\n",
       "        (2): SiLU()\n",
       "      )\n",
       "      (frontend): Conv3dResNetTimeConditioned(\n",
       "        (trunk): ResNet(\n",
       "          (layer1): mySequential(\n",
       "            (0): BasicBlock(\n",
       "              (conv1): Conv2d(64, 64, kernel_size=(3, 3), stride=(1, 1), padding=(1, 1), bias=False)\n",
       "              (bn1): BatchNorm2d(64, eps=1e-05, momentum=0.1, affine=True, track_running_stats=True)\n",
       "              (relu1): SiLU(inplace=True)\n",
       "              (relu2): SiLU(inplace=True)\n",
       "              (conv2): Conv2d(64, 64, kernel_size=(3, 3), stride=(1, 1), padding=(1, 1), bias=False)\n",
       "              (bn2): BatchNorm2d(64, eps=1e-05, momentum=0.1, affine=True, track_running_stats=True)\n",
       "            )\n",
       "            (1): BasicBlock(\n",
       "              (conv1): Conv2d(64, 64, kernel_size=(3, 3), stride=(1, 1), padding=(1, 1), bias=False)\n",
       "              (bn1): BatchNorm2d(64, eps=1e-05, momentum=0.1, affine=True, track_running_stats=True)\n",
       "              (relu1): SiLU(inplace=True)\n",
       "              (relu2): SiLU(inplace=True)\n",
       "              (conv2): Conv2d(64, 64, kernel_size=(3, 3), stride=(1, 1), padding=(1, 1), bias=False)\n",
       "              (bn2): BatchNorm2d(64, eps=1e-05, momentum=0.1, affine=True, track_running_stats=True)\n",
       "            )\n",
       "          )\n",
       "          (layer2): mySequential(\n",
       "            (0): BasicBlock(\n",
       "              (conv1): Conv2d(64, 128, kernel_size=(3, 3), stride=(2, 2), padding=(1, 1), bias=False)\n",
       "              (bn1): BatchNorm2d(128, eps=1e-05, momentum=0.1, affine=True, track_running_stats=True)\n",
       "              (relu1): SiLU(inplace=True)\n",
       "              (relu2): SiLU(inplace=True)\n",
       "              (conv2): Conv2d(128, 128, kernel_size=(3, 3), stride=(1, 1), padding=(1, 1), bias=False)\n",
       "              (bn2): BatchNorm2d(128, eps=1e-05, momentum=0.1, affine=True, track_running_stats=True)\n",
       "              (downsample): Sequential(\n",
       "                (0): Conv2d(64, 128, kernel_size=(1, 1), stride=(2, 2), bias=False)\n",
       "                (1): BatchNorm2d(128, eps=1e-05, momentum=0.1, affine=True, track_running_stats=True)\n",
       "              )\n",
       "            )\n",
       "            (1): BasicBlock(\n",
       "              (conv1): Conv2d(128, 128, kernel_size=(3, 3), stride=(1, 1), padding=(1, 1), bias=False)\n",
       "              (bn1): BatchNorm2d(128, eps=1e-05, momentum=0.1, affine=True, track_running_stats=True)\n",
       "              (relu1): SiLU(inplace=True)\n",
       "              (relu2): SiLU(inplace=True)\n",
       "              (conv2): Conv2d(128, 128, kernel_size=(3, 3), stride=(1, 1), padding=(1, 1), bias=False)\n",
       "              (bn2): BatchNorm2d(128, eps=1e-05, momentum=0.1, affine=True, track_running_stats=True)\n",
       "            )\n",
       "          )\n",
       "          (layer3): mySequential(\n",
       "            (0): BasicBlock(\n",
       "              (conv1): Conv2d(128, 256, kernel_size=(3, 3), stride=(2, 2), padding=(1, 1), bias=False)\n",
       "              (bn1): BatchNorm2d(256, eps=1e-05, momentum=0.1, affine=True, track_running_stats=True)\n",
       "              (relu1): SiLU(inplace=True)\n",
       "              (relu2): SiLU(inplace=True)\n",
       "              (conv2): Conv2d(256, 256, kernel_size=(3, 3), stride=(1, 1), padding=(1, 1), bias=False)\n",
       "              (bn2): BatchNorm2d(256, eps=1e-05, momentum=0.1, affine=True, track_running_stats=True)\n",
       "              (downsample): Sequential(\n",
       "                (0): Conv2d(128, 256, kernel_size=(1, 1), stride=(2, 2), bias=False)\n",
       "                (1): BatchNorm2d(256, eps=1e-05, momentum=0.1, affine=True, track_running_stats=True)\n",
       "              )\n",
       "            )\n",
       "            (1): BasicBlock(\n",
       "              (conv1): Conv2d(256, 256, kernel_size=(3, 3), stride=(1, 1), padding=(1, 1), bias=False)\n",
       "              (bn1): BatchNorm2d(256, eps=1e-05, momentum=0.1, affine=True, track_running_stats=True)\n",
       "              (relu1): SiLU(inplace=True)\n",
       "              (relu2): SiLU(inplace=True)\n",
       "              (conv2): Conv2d(256, 256, kernel_size=(3, 3), stride=(1, 1), padding=(1, 1), bias=False)\n",
       "              (bn2): BatchNorm2d(256, eps=1e-05, momentum=0.1, affine=True, track_running_stats=True)\n",
       "            )\n",
       "          )\n",
       "          (layer4): mySequential(\n",
       "            (0): BasicBlock(\n",
       "              (conv1): Conv2d(256, 512, kernel_size=(3, 3), stride=(2, 2), padding=(1, 1), bias=False)\n",
       "              (bn1): BatchNorm2d(512, eps=1e-05, momentum=0.1, affine=True, track_running_stats=True)\n",
       "              (relu1): SiLU(inplace=True)\n",
       "              (relu2): SiLU(inplace=True)\n",
       "              (conv2): Conv2d(512, 512, kernel_size=(3, 3), stride=(1, 1), padding=(1, 1), bias=False)\n",
       "              (bn2): BatchNorm2d(512, eps=1e-05, momentum=0.1, affine=True, track_running_stats=True)\n",
       "              (downsample): Sequential(\n",
       "                (0): Conv2d(256, 512, kernel_size=(1, 1), stride=(2, 2), bias=False)\n",
       "                (1): BatchNorm2d(512, eps=1e-05, momentum=0.1, affine=True, track_running_stats=True)\n",
       "              )\n",
       "            )\n",
       "            (1): BasicBlock(\n",
       "              (conv1): Conv2d(512, 512, kernel_size=(3, 3), stride=(1, 1), padding=(1, 1), bias=False)\n",
       "              (bn1): BatchNorm2d(512, eps=1e-05, momentum=0.1, affine=True, track_running_stats=True)\n",
       "              (relu1): SiLU(inplace=True)\n",
       "              (relu2): SiLU(inplace=True)\n",
       "              (conv2): Conv2d(512, 512, kernel_size=(3, 3), stride=(1, 1), padding=(1, 1), bias=False)\n",
       "              (bn2): BatchNorm2d(512, eps=1e-05, momentum=0.1, affine=True, track_running_stats=True)\n",
       "            )\n",
       "          )\n",
       "          (avgpool): AdaptiveAvgPool2d(output_size=1)\n",
       "        )\n",
       "        (frontend3D): Sequential(\n",
       "          (0): Conv3d(1, 64, kernel_size=(5, 7, 7), stride=(1, 2, 2), padding=(2, 3, 3), bias=False)\n",
       "          (1): BatchNorm3d(64, eps=1e-05, momentum=0.1, affine=True, track_running_stats=True)\n",
       "          (2): SiLU(inplace=True)\n",
       "          (3): MaxPool3d(kernel_size=(1, 3, 3), stride=(1, 2, 2), padding=(0, 1, 1), dilation=1, ceil_mode=False)\n",
       "        )\n",
       "      )\n",
       "      (embed): Sequential(\n",
       "        (0): Linear(in_features=512, out_features=768, bias=True)\n",
       "        (1): RelPositionalEncoding(\n",
       "          (dropout): Dropout(p=0.1, inplace=False)\n",
       "        )\n",
       "      )\n",
       "      (encoders): MultiSequential(\n",
       "        (0): EncoderLayer(\n",
       "          (self_attn): RelPositionMultiHeadedAttention(\n",
       "            (linear_q): Linear(in_features=768, out_features=768, bias=True)\n",
       "            (linear_k): Linear(in_features=768, out_features=768, bias=True)\n",
       "            (linear_v): Linear(in_features=768, out_features=768, bias=True)\n",
       "            (linear_out): Linear(in_features=768, out_features=768, bias=True)\n",
       "            (dropout): Dropout(p=0.1, inplace=False)\n",
       "            (linear_pos): Linear(in_features=768, out_features=768, bias=False)\n",
       "          )\n",
       "          (feed_forward): PositionwiseFeedForward(\n",
       "            (w_1): Linear(in_features=768, out_features=3072, bias=True)\n",
       "            (w_2): Linear(in_features=3072, out_features=768, bias=True)\n",
       "            (dropout): Dropout(p=0.1, inplace=False)\n",
       "          )\n",
       "          (conv_module): ConvolutionModule(\n",
       "            (pointwise_cov1): Conv1d(768, 1536, kernel_size=(1,), stride=(1,))\n",
       "            (depthwise_conv): Conv1d(768, 768, kernel_size=(31,), stride=(1,), padding=(15,), groups=768)\n",
       "            (norm): BatchNorm1d(768, eps=1e-05, momentum=0.1, affine=True, track_running_stats=True)\n",
       "            (pointwise_cov2): Conv1d(768, 768, kernel_size=(1,), stride=(1,))\n",
       "            (activation): Swish()\n",
       "          )\n",
       "          (norm_ff): LayerNorm((768,), eps=1e-12, elementwise_affine=True)\n",
       "          (norm_mha): LayerNorm((768,), eps=1e-12, elementwise_affine=True)\n",
       "          (feed_forward_macaron): PositionwiseFeedForward(\n",
       "            (w_1): Linear(in_features=768, out_features=3072, bias=True)\n",
       "            (w_2): Linear(in_features=3072, out_features=768, bias=True)\n",
       "            (dropout): Dropout(p=0.1, inplace=False)\n",
       "          )\n",
       "          (norm_ff_macaron): LayerNorm((768,), eps=1e-12, elementwise_affine=True)\n",
       "          (norm_conv): LayerNorm((768,), eps=1e-12, elementwise_affine=True)\n",
       "          (norm_final): LayerNorm((768,), eps=1e-12, elementwise_affine=True)\n",
       "          (dropout): Dropout(p=0.1, inplace=False)\n",
       "        )\n",
       "        (1): EncoderLayer(\n",
       "          (self_attn): RelPositionMultiHeadedAttention(\n",
       "            (linear_q): Linear(in_features=768, out_features=768, bias=True)\n",
       "            (linear_k): Linear(in_features=768, out_features=768, bias=True)\n",
       "            (linear_v): Linear(in_features=768, out_features=768, bias=True)\n",
       "            (linear_out): Linear(in_features=768, out_features=768, bias=True)\n",
       "            (dropout): Dropout(p=0.1, inplace=False)\n",
       "            (linear_pos): Linear(in_features=768, out_features=768, bias=False)\n",
       "          )\n",
       "          (feed_forward): PositionwiseFeedForward(\n",
       "            (w_1): Linear(in_features=768, out_features=3072, bias=True)\n",
       "            (w_2): Linear(in_features=3072, out_features=768, bias=True)\n",
       "            (dropout): Dropout(p=0.1, inplace=False)\n",
       "          )\n",
       "          (conv_module): ConvolutionModule(\n",
       "            (pointwise_cov1): Conv1d(768, 1536, kernel_size=(1,), stride=(1,))\n",
       "            (depthwise_conv): Conv1d(768, 768, kernel_size=(31,), stride=(1,), padding=(15,), groups=768)\n",
       "            (norm): BatchNorm1d(768, eps=1e-05, momentum=0.1, affine=True, track_running_stats=True)\n",
       "            (pointwise_cov2): Conv1d(768, 768, kernel_size=(1,), stride=(1,))\n",
       "            (activation): Swish()\n",
       "          )\n",
       "          (norm_ff): LayerNorm((768,), eps=1e-12, elementwise_affine=True)\n",
       "          (norm_mha): LayerNorm((768,), eps=1e-12, elementwise_affine=True)\n",
       "          (feed_forward_macaron): PositionwiseFeedForward(\n",
       "            (w_1): Linear(in_features=768, out_features=3072, bias=True)\n",
       "            (w_2): Linear(in_features=3072, out_features=768, bias=True)\n",
       "            (dropout): Dropout(p=0.1, inplace=False)\n",
       "          )\n",
       "          (norm_ff_macaron): LayerNorm((768,), eps=1e-12, elementwise_affine=True)\n",
       "          (norm_conv): LayerNorm((768,), eps=1e-12, elementwise_affine=True)\n",
       "          (norm_final): LayerNorm((768,), eps=1e-12, elementwise_affine=True)\n",
       "          (dropout): Dropout(p=0.1, inplace=False)\n",
       "        )\n",
       "        (2): EncoderLayer(\n",
       "          (self_attn): RelPositionMultiHeadedAttention(\n",
       "            (linear_q): Linear(in_features=768, out_features=768, bias=True)\n",
       "            (linear_k): Linear(in_features=768, out_features=768, bias=True)\n",
       "            (linear_v): Linear(in_features=768, out_features=768, bias=True)\n",
       "            (linear_out): Linear(in_features=768, out_features=768, bias=True)\n",
       "            (dropout): Dropout(p=0.1, inplace=False)\n",
       "            (linear_pos): Linear(in_features=768, out_features=768, bias=False)\n",
       "          )\n",
       "          (feed_forward): PositionwiseFeedForward(\n",
       "            (w_1): Linear(in_features=768, out_features=3072, bias=True)\n",
       "            (w_2): Linear(in_features=3072, out_features=768, bias=True)\n",
       "            (dropout): Dropout(p=0.1, inplace=False)\n",
       "          )\n",
       "          (conv_module): ConvolutionModule(\n",
       "            (pointwise_cov1): Conv1d(768, 1536, kernel_size=(1,), stride=(1,))\n",
       "            (depthwise_conv): Conv1d(768, 768, kernel_size=(31,), stride=(1,), padding=(15,), groups=768)\n",
       "            (norm): BatchNorm1d(768, eps=1e-05, momentum=0.1, affine=True, track_running_stats=True)\n",
       "            (pointwise_cov2): Conv1d(768, 768, kernel_size=(1,), stride=(1,))\n",
       "            (activation): Swish()\n",
       "          )\n",
       "          (norm_ff): LayerNorm((768,), eps=1e-12, elementwise_affine=True)\n",
       "          (norm_mha): LayerNorm((768,), eps=1e-12, elementwise_affine=True)\n",
       "          (feed_forward_macaron): PositionwiseFeedForward(\n",
       "            (w_1): Linear(in_features=768, out_features=3072, bias=True)\n",
       "            (w_2): Linear(in_features=3072, out_features=768, bias=True)\n",
       "            (dropout): Dropout(p=0.1, inplace=False)\n",
       "          )\n",
       "          (norm_ff_macaron): LayerNorm((768,), eps=1e-12, elementwise_affine=True)\n",
       "          (norm_conv): LayerNorm((768,), eps=1e-12, elementwise_affine=True)\n",
       "          (norm_final): LayerNorm((768,), eps=1e-12, elementwise_affine=True)\n",
       "          (dropout): Dropout(p=0.1, inplace=False)\n",
       "        )\n",
       "        (3): EncoderLayer(\n",
       "          (self_attn): RelPositionMultiHeadedAttention(\n",
       "            (linear_q): Linear(in_features=768, out_features=768, bias=True)\n",
       "            (linear_k): Linear(in_features=768, out_features=768, bias=True)\n",
       "            (linear_v): Linear(in_features=768, out_features=768, bias=True)\n",
       "            (linear_out): Linear(in_features=768, out_features=768, bias=True)\n",
       "            (dropout): Dropout(p=0.1, inplace=False)\n",
       "            (linear_pos): Linear(in_features=768, out_features=768, bias=False)\n",
       "          )\n",
       "          (feed_forward): PositionwiseFeedForward(\n",
       "            (w_1): Linear(in_features=768, out_features=3072, bias=True)\n",
       "            (w_2): Linear(in_features=3072, out_features=768, bias=True)\n",
       "            (dropout): Dropout(p=0.1, inplace=False)\n",
       "          )\n",
       "          (conv_module): ConvolutionModule(\n",
       "            (pointwise_cov1): Conv1d(768, 1536, kernel_size=(1,), stride=(1,))\n",
       "            (depthwise_conv): Conv1d(768, 768, kernel_size=(31,), stride=(1,), padding=(15,), groups=768)\n",
       "            (norm): BatchNorm1d(768, eps=1e-05, momentum=0.1, affine=True, track_running_stats=True)\n",
       "            (pointwise_cov2): Conv1d(768, 768, kernel_size=(1,), stride=(1,))\n",
       "            (activation): Swish()\n",
       "          )\n",
       "          (norm_ff): LayerNorm((768,), eps=1e-12, elementwise_affine=True)\n",
       "          (norm_mha): LayerNorm((768,), eps=1e-12, elementwise_affine=True)\n",
       "          (feed_forward_macaron): PositionwiseFeedForward(\n",
       "            (w_1): Linear(in_features=768, out_features=3072, bias=True)\n",
       "            (w_2): Linear(in_features=3072, out_features=768, bias=True)\n",
       "            (dropout): Dropout(p=0.1, inplace=False)\n",
       "          )\n",
       "          (norm_ff_macaron): LayerNorm((768,), eps=1e-12, elementwise_affine=True)\n",
       "          (norm_conv): LayerNorm((768,), eps=1e-12, elementwise_affine=True)\n",
       "          (norm_final): LayerNorm((768,), eps=1e-12, elementwise_affine=True)\n",
       "          (dropout): Dropout(p=0.1, inplace=False)\n",
       "        )\n",
       "        (4): EncoderLayer(\n",
       "          (self_attn): RelPositionMultiHeadedAttention(\n",
       "            (linear_q): Linear(in_features=768, out_features=768, bias=True)\n",
       "            (linear_k): Linear(in_features=768, out_features=768, bias=True)\n",
       "            (linear_v): Linear(in_features=768, out_features=768, bias=True)\n",
       "            (linear_out): Linear(in_features=768, out_features=768, bias=True)\n",
       "            (dropout): Dropout(p=0.1, inplace=False)\n",
       "            (linear_pos): Linear(in_features=768, out_features=768, bias=False)\n",
       "          )\n",
       "          (feed_forward): PositionwiseFeedForward(\n",
       "            (w_1): Linear(in_features=768, out_features=3072, bias=True)\n",
       "            (w_2): Linear(in_features=3072, out_features=768, bias=True)\n",
       "            (dropout): Dropout(p=0.1, inplace=False)\n",
       "          )\n",
       "          (conv_module): ConvolutionModule(\n",
       "            (pointwise_cov1): Conv1d(768, 1536, kernel_size=(1,), stride=(1,))\n",
       "            (depthwise_conv): Conv1d(768, 768, kernel_size=(31,), stride=(1,), padding=(15,), groups=768)\n",
       "            (norm): BatchNorm1d(768, eps=1e-05, momentum=0.1, affine=True, track_running_stats=True)\n",
       "            (pointwise_cov2): Conv1d(768, 768, kernel_size=(1,), stride=(1,))\n",
       "            (activation): Swish()\n",
       "          )\n",
       "          (norm_ff): LayerNorm((768,), eps=1e-12, elementwise_affine=True)\n",
       "          (norm_mha): LayerNorm((768,), eps=1e-12, elementwise_affine=True)\n",
       "          (feed_forward_macaron): PositionwiseFeedForward(\n",
       "            (w_1): Linear(in_features=768, out_features=3072, bias=True)\n",
       "            (w_2): Linear(in_features=3072, out_features=768, bias=True)\n",
       "            (dropout): Dropout(p=0.1, inplace=False)\n",
       "          )\n",
       "          (norm_ff_macaron): LayerNorm((768,), eps=1e-12, elementwise_affine=True)\n",
       "          (norm_conv): LayerNorm((768,), eps=1e-12, elementwise_affine=True)\n",
       "          (norm_final): LayerNorm((768,), eps=1e-12, elementwise_affine=True)\n",
       "          (dropout): Dropout(p=0.1, inplace=False)\n",
       "        )\n",
       "        (5): EncoderLayer(\n",
       "          (self_attn): RelPositionMultiHeadedAttention(\n",
       "            (linear_q): Linear(in_features=768, out_features=768, bias=True)\n",
       "            (linear_k): Linear(in_features=768, out_features=768, bias=True)\n",
       "            (linear_v): Linear(in_features=768, out_features=768, bias=True)\n",
       "            (linear_out): Linear(in_features=768, out_features=768, bias=True)\n",
       "            (dropout): Dropout(p=0.1, inplace=False)\n",
       "            (linear_pos): Linear(in_features=768, out_features=768, bias=False)\n",
       "          )\n",
       "          (feed_forward): PositionwiseFeedForward(\n",
       "            (w_1): Linear(in_features=768, out_features=3072, bias=True)\n",
       "            (w_2): Linear(in_features=3072, out_features=768, bias=True)\n",
       "            (dropout): Dropout(p=0.1, inplace=False)\n",
       "          )\n",
       "          (conv_module): ConvolutionModule(\n",
       "            (pointwise_cov1): Conv1d(768, 1536, kernel_size=(1,), stride=(1,))\n",
       "            (depthwise_conv): Conv1d(768, 768, kernel_size=(31,), stride=(1,), padding=(15,), groups=768)\n",
       "            (norm): BatchNorm1d(768, eps=1e-05, momentum=0.1, affine=True, track_running_stats=True)\n",
       "            (pointwise_cov2): Conv1d(768, 768, kernel_size=(1,), stride=(1,))\n",
       "            (activation): Swish()\n",
       "          )\n",
       "          (norm_ff): LayerNorm((768,), eps=1e-12, elementwise_affine=True)\n",
       "          (norm_mha): LayerNorm((768,), eps=1e-12, elementwise_affine=True)\n",
       "          (feed_forward_macaron): PositionwiseFeedForward(\n",
       "            (w_1): Linear(in_features=768, out_features=3072, bias=True)\n",
       "            (w_2): Linear(in_features=3072, out_features=768, bias=True)\n",
       "            (dropout): Dropout(p=0.1, inplace=False)\n",
       "          )\n",
       "          (norm_ff_macaron): LayerNorm((768,), eps=1e-12, elementwise_affine=True)\n",
       "          (norm_conv): LayerNorm((768,), eps=1e-12, elementwise_affine=True)\n",
       "          (norm_final): LayerNorm((768,), eps=1e-12, elementwise_affine=True)\n",
       "          (dropout): Dropout(p=0.1, inplace=False)\n",
       "        )\n",
       "        (6): EncoderLayer(\n",
       "          (self_attn): RelPositionMultiHeadedAttention(\n",
       "            (linear_q): Linear(in_features=768, out_features=768, bias=True)\n",
       "            (linear_k): Linear(in_features=768, out_features=768, bias=True)\n",
       "            (linear_v): Linear(in_features=768, out_features=768, bias=True)\n",
       "            (linear_out): Linear(in_features=768, out_features=768, bias=True)\n",
       "            (dropout): Dropout(p=0.1, inplace=False)\n",
       "            (linear_pos): Linear(in_features=768, out_features=768, bias=False)\n",
       "          )\n",
       "          (feed_forward): PositionwiseFeedForward(\n",
       "            (w_1): Linear(in_features=768, out_features=3072, bias=True)\n",
       "            (w_2): Linear(in_features=3072, out_features=768, bias=True)\n",
       "            (dropout): Dropout(p=0.1, inplace=False)\n",
       "          )\n",
       "          (conv_module): ConvolutionModule(\n",
       "            (pointwise_cov1): Conv1d(768, 1536, kernel_size=(1,), stride=(1,))\n",
       "            (depthwise_conv): Conv1d(768, 768, kernel_size=(31,), stride=(1,), padding=(15,), groups=768)\n",
       "            (norm): BatchNorm1d(768, eps=1e-05, momentum=0.1, affine=True, track_running_stats=True)\n",
       "            (pointwise_cov2): Conv1d(768, 768, kernel_size=(1,), stride=(1,))\n",
       "            (activation): Swish()\n",
       "          )\n",
       "          (norm_ff): LayerNorm((768,), eps=1e-12, elementwise_affine=True)\n",
       "          (norm_mha): LayerNorm((768,), eps=1e-12, elementwise_affine=True)\n",
       "          (feed_forward_macaron): PositionwiseFeedForward(\n",
       "            (w_1): Linear(in_features=768, out_features=3072, bias=True)\n",
       "            (w_2): Linear(in_features=3072, out_features=768, bias=True)\n",
       "            (dropout): Dropout(p=0.1, inplace=False)\n",
       "          )\n",
       "          (norm_ff_macaron): LayerNorm((768,), eps=1e-12, elementwise_affine=True)\n",
       "          (norm_conv): LayerNorm((768,), eps=1e-12, elementwise_affine=True)\n",
       "          (norm_final): LayerNorm((768,), eps=1e-12, elementwise_affine=True)\n",
       "          (dropout): Dropout(p=0.1, inplace=False)\n",
       "        )\n",
       "        (7): EncoderLayer(\n",
       "          (self_attn): RelPositionMultiHeadedAttention(\n",
       "            (linear_q): Linear(in_features=768, out_features=768, bias=True)\n",
       "            (linear_k): Linear(in_features=768, out_features=768, bias=True)\n",
       "            (linear_v): Linear(in_features=768, out_features=768, bias=True)\n",
       "            (linear_out): Linear(in_features=768, out_features=768, bias=True)\n",
       "            (dropout): Dropout(p=0.1, inplace=False)\n",
       "            (linear_pos): Linear(in_features=768, out_features=768, bias=False)\n",
       "          )\n",
       "          (feed_forward): PositionwiseFeedForward(\n",
       "            (w_1): Linear(in_features=768, out_features=3072, bias=True)\n",
       "            (w_2): Linear(in_features=3072, out_features=768, bias=True)\n",
       "            (dropout): Dropout(p=0.1, inplace=False)\n",
       "          )\n",
       "          (conv_module): ConvolutionModule(\n",
       "            (pointwise_cov1): Conv1d(768, 1536, kernel_size=(1,), stride=(1,))\n",
       "            (depthwise_conv): Conv1d(768, 768, kernel_size=(31,), stride=(1,), padding=(15,), groups=768)\n",
       "            (norm): BatchNorm1d(768, eps=1e-05, momentum=0.1, affine=True, track_running_stats=True)\n",
       "            (pointwise_cov2): Conv1d(768, 768, kernel_size=(1,), stride=(1,))\n",
       "            (activation): Swish()\n",
       "          )\n",
       "          (norm_ff): LayerNorm((768,), eps=1e-12, elementwise_affine=True)\n",
       "          (norm_mha): LayerNorm((768,), eps=1e-12, elementwise_affine=True)\n",
       "          (feed_forward_macaron): PositionwiseFeedForward(\n",
       "            (w_1): Linear(in_features=768, out_features=3072, bias=True)\n",
       "            (w_2): Linear(in_features=3072, out_features=768, bias=True)\n",
       "            (dropout): Dropout(p=0.1, inplace=False)\n",
       "          )\n",
       "          (norm_ff_macaron): LayerNorm((768,), eps=1e-12, elementwise_affine=True)\n",
       "          (norm_conv): LayerNorm((768,), eps=1e-12, elementwise_affine=True)\n",
       "          (norm_final): LayerNorm((768,), eps=1e-12, elementwise_affine=True)\n",
       "          (dropout): Dropout(p=0.1, inplace=False)\n",
       "        )\n",
       "        (8): EncoderLayer(\n",
       "          (self_attn): RelPositionMultiHeadedAttention(\n",
       "            (linear_q): Linear(in_features=768, out_features=768, bias=True)\n",
       "            (linear_k): Linear(in_features=768, out_features=768, bias=True)\n",
       "            (linear_v): Linear(in_features=768, out_features=768, bias=True)\n",
       "            (linear_out): Linear(in_features=768, out_features=768, bias=True)\n",
       "            (dropout): Dropout(p=0.1, inplace=False)\n",
       "            (linear_pos): Linear(in_features=768, out_features=768, bias=False)\n",
       "          )\n",
       "          (feed_forward): PositionwiseFeedForward(\n",
       "            (w_1): Linear(in_features=768, out_features=3072, bias=True)\n",
       "            (w_2): Linear(in_features=3072, out_features=768, bias=True)\n",
       "            (dropout): Dropout(p=0.1, inplace=False)\n",
       "          )\n",
       "          (conv_module): ConvolutionModule(\n",
       "            (pointwise_cov1): Conv1d(768, 1536, kernel_size=(1,), stride=(1,))\n",
       "            (depthwise_conv): Conv1d(768, 768, kernel_size=(31,), stride=(1,), padding=(15,), groups=768)\n",
       "            (norm): BatchNorm1d(768, eps=1e-05, momentum=0.1, affine=True, track_running_stats=True)\n",
       "            (pointwise_cov2): Conv1d(768, 768, kernel_size=(1,), stride=(1,))\n",
       "            (activation): Swish()\n",
       "          )\n",
       "          (norm_ff): LayerNorm((768,), eps=1e-12, elementwise_affine=True)\n",
       "          (norm_mha): LayerNorm((768,), eps=1e-12, elementwise_affine=True)\n",
       "          (feed_forward_macaron): PositionwiseFeedForward(\n",
       "            (w_1): Linear(in_features=768, out_features=3072, bias=True)\n",
       "            (w_2): Linear(in_features=3072, out_features=768, bias=True)\n",
       "            (dropout): Dropout(p=0.1, inplace=False)\n",
       "          )\n",
       "          (norm_ff_macaron): LayerNorm((768,), eps=1e-12, elementwise_affine=True)\n",
       "          (norm_conv): LayerNorm((768,), eps=1e-12, elementwise_affine=True)\n",
       "          (norm_final): LayerNorm((768,), eps=1e-12, elementwise_affine=True)\n",
       "          (dropout): Dropout(p=0.1, inplace=False)\n",
       "        )\n",
       "        (9): EncoderLayer(\n",
       "          (self_attn): RelPositionMultiHeadedAttention(\n",
       "            (linear_q): Linear(in_features=768, out_features=768, bias=True)\n",
       "            (linear_k): Linear(in_features=768, out_features=768, bias=True)\n",
       "            (linear_v): Linear(in_features=768, out_features=768, bias=True)\n",
       "            (linear_out): Linear(in_features=768, out_features=768, bias=True)\n",
       "            (dropout): Dropout(p=0.1, inplace=False)\n",
       "            (linear_pos): Linear(in_features=768, out_features=768, bias=False)\n",
       "          )\n",
       "          (feed_forward): PositionwiseFeedForward(\n",
       "            (w_1): Linear(in_features=768, out_features=3072, bias=True)\n",
       "            (w_2): Linear(in_features=3072, out_features=768, bias=True)\n",
       "            (dropout): Dropout(p=0.1, inplace=False)\n",
       "          )\n",
       "          (conv_module): ConvolutionModule(\n",
       "            (pointwise_cov1): Conv1d(768, 1536, kernel_size=(1,), stride=(1,))\n",
       "            (depthwise_conv): Conv1d(768, 768, kernel_size=(31,), stride=(1,), padding=(15,), groups=768)\n",
       "            (norm): BatchNorm1d(768, eps=1e-05, momentum=0.1, affine=True, track_running_stats=True)\n",
       "            (pointwise_cov2): Conv1d(768, 768, kernel_size=(1,), stride=(1,))\n",
       "            (activation): Swish()\n",
       "          )\n",
       "          (norm_ff): LayerNorm((768,), eps=1e-12, elementwise_affine=True)\n",
       "          (norm_mha): LayerNorm((768,), eps=1e-12, elementwise_affine=True)\n",
       "          (feed_forward_macaron): PositionwiseFeedForward(\n",
       "            (w_1): Linear(in_features=768, out_features=3072, bias=True)\n",
       "            (w_2): Linear(in_features=3072, out_features=768, bias=True)\n",
       "            (dropout): Dropout(p=0.1, inplace=False)\n",
       "          )\n",
       "          (norm_ff_macaron): LayerNorm((768,), eps=1e-12, elementwise_affine=True)\n",
       "          (norm_conv): LayerNorm((768,), eps=1e-12, elementwise_affine=True)\n",
       "          (norm_final): LayerNorm((768,), eps=1e-12, elementwise_affine=True)\n",
       "          (dropout): Dropout(p=0.1, inplace=False)\n",
       "        )\n",
       "        (10): EncoderLayer(\n",
       "          (self_attn): RelPositionMultiHeadedAttention(\n",
       "            (linear_q): Linear(in_features=768, out_features=768, bias=True)\n",
       "            (linear_k): Linear(in_features=768, out_features=768, bias=True)\n",
       "            (linear_v): Linear(in_features=768, out_features=768, bias=True)\n",
       "            (linear_out): Linear(in_features=768, out_features=768, bias=True)\n",
       "            (dropout): Dropout(p=0.1, inplace=False)\n",
       "            (linear_pos): Linear(in_features=768, out_features=768, bias=False)\n",
       "          )\n",
       "          (feed_forward): PositionwiseFeedForward(\n",
       "            (w_1): Linear(in_features=768, out_features=3072, bias=True)\n",
       "            (w_2): Linear(in_features=3072, out_features=768, bias=True)\n",
       "            (dropout): Dropout(p=0.1, inplace=False)\n",
       "          )\n",
       "          (conv_module): ConvolutionModule(\n",
       "            (pointwise_cov1): Conv1d(768, 1536, kernel_size=(1,), stride=(1,))\n",
       "            (depthwise_conv): Conv1d(768, 768, kernel_size=(31,), stride=(1,), padding=(15,), groups=768)\n",
       "            (norm): BatchNorm1d(768, eps=1e-05, momentum=0.1, affine=True, track_running_stats=True)\n",
       "            (pointwise_cov2): Conv1d(768, 768, kernel_size=(1,), stride=(1,))\n",
       "            (activation): Swish()\n",
       "          )\n",
       "          (norm_ff): LayerNorm((768,), eps=1e-12, elementwise_affine=True)\n",
       "          (norm_mha): LayerNorm((768,), eps=1e-12, elementwise_affine=True)\n",
       "          (feed_forward_macaron): PositionwiseFeedForward(\n",
       "            (w_1): Linear(in_features=768, out_features=3072, bias=True)\n",
       "            (w_2): Linear(in_features=3072, out_features=768, bias=True)\n",
       "            (dropout): Dropout(p=0.1, inplace=False)\n",
       "          )\n",
       "          (norm_ff_macaron): LayerNorm((768,), eps=1e-12, elementwise_affine=True)\n",
       "          (norm_conv): LayerNorm((768,), eps=1e-12, elementwise_affine=True)\n",
       "          (norm_final): LayerNorm((768,), eps=1e-12, elementwise_affine=True)\n",
       "          (dropout): Dropout(p=0.1, inplace=False)\n",
       "        )\n",
       "        (11): EncoderLayer(\n",
       "          (self_attn): RelPositionMultiHeadedAttention(\n",
       "            (linear_q): Linear(in_features=768, out_features=768, bias=True)\n",
       "            (linear_k): Linear(in_features=768, out_features=768, bias=True)\n",
       "            (linear_v): Linear(in_features=768, out_features=768, bias=True)\n",
       "            (linear_out): Linear(in_features=768, out_features=768, bias=True)\n",
       "            (dropout): Dropout(p=0.1, inplace=False)\n",
       "            (linear_pos): Linear(in_features=768, out_features=768, bias=False)\n",
       "          )\n",
       "          (feed_forward): PositionwiseFeedForward(\n",
       "            (w_1): Linear(in_features=768, out_features=3072, bias=True)\n",
       "            (w_2): Linear(in_features=3072, out_features=768, bias=True)\n",
       "            (dropout): Dropout(p=0.1, inplace=False)\n",
       "          )\n",
       "          (conv_module): ConvolutionModule(\n",
       "            (pointwise_cov1): Conv1d(768, 1536, kernel_size=(1,), stride=(1,))\n",
       "            (depthwise_conv): Conv1d(768, 768, kernel_size=(31,), stride=(1,), padding=(15,), groups=768)\n",
       "            (norm): BatchNorm1d(768, eps=1e-05, momentum=0.1, affine=True, track_running_stats=True)\n",
       "            (pointwise_cov2): Conv1d(768, 768, kernel_size=(1,), stride=(1,))\n",
       "            (activation): Swish()\n",
       "          )\n",
       "          (norm_ff): LayerNorm((768,), eps=1e-12, elementwise_affine=True)\n",
       "          (norm_mha): LayerNorm((768,), eps=1e-12, elementwise_affine=True)\n",
       "          (feed_forward_macaron): PositionwiseFeedForward(\n",
       "            (w_1): Linear(in_features=768, out_features=3072, bias=True)\n",
       "            (w_2): Linear(in_features=3072, out_features=768, bias=True)\n",
       "            (dropout): Dropout(p=0.1, inplace=False)\n",
       "          )\n",
       "          (norm_ff_macaron): LayerNorm((768,), eps=1e-12, elementwise_affine=True)\n",
       "          (norm_conv): LayerNorm((768,), eps=1e-12, elementwise_affine=True)\n",
       "          (norm_final): LayerNorm((768,), eps=1e-12, elementwise_affine=True)\n",
       "          (dropout): Dropout(p=0.1, inplace=False)\n",
       "        )\n",
       "      )\n",
       "      (after_norm): LayerNorm((768,), eps=1e-12, elementwise_affine=True)\n",
       "    )\n",
       "    (decoder): Decoder(\n",
       "      (embed): Sequential(\n",
       "        (0): Embedding(5049, 768)\n",
       "        (1): PositionalEncoding(\n",
       "          (dropout): Dropout(p=0.1, inplace=False)\n",
       "        )\n",
       "      )\n",
       "      (decoders): MultiSequential(\n",
       "        (0): DecoderLayer(\n",
       "          (self_attn): MultiHeadedAttention(\n",
       "            (linear_q): Linear(in_features=768, out_features=768, bias=True)\n",
       "            (linear_k): Linear(in_features=768, out_features=768, bias=True)\n",
       "            (linear_v): Linear(in_features=768, out_features=768, bias=True)\n",
       "            (linear_out): Linear(in_features=768, out_features=768, bias=True)\n",
       "            (dropout): Dropout(p=0.1, inplace=False)\n",
       "          )\n",
       "          (src_attn): MultiHeadedAttention(\n",
       "            (linear_q): Linear(in_features=768, out_features=768, bias=True)\n",
       "            (linear_k): Linear(in_features=768, out_features=768, bias=True)\n",
       "            (linear_v): Linear(in_features=768, out_features=768, bias=True)\n",
       "            (linear_out): Linear(in_features=768, out_features=768, bias=True)\n",
       "            (dropout): Dropout(p=0.1, inplace=False)\n",
       "          )\n",
       "          (feed_forward): PositionwiseFeedForward(\n",
       "            (w_1): Linear(in_features=768, out_features=3072, bias=True)\n",
       "            (w_2): Linear(in_features=3072, out_features=768, bias=True)\n",
       "            (dropout): Dropout(p=0.1, inplace=False)\n",
       "          )\n",
       "          (norm1): LayerNorm((768,), eps=1e-12, elementwise_affine=True)\n",
       "          (norm2): LayerNorm((768,), eps=1e-12, elementwise_affine=True)\n",
       "          (norm3): LayerNorm((768,), eps=1e-12, elementwise_affine=True)\n",
       "          (dropout): Dropout(p=0.1, inplace=False)\n",
       "        )\n",
       "        (1): DecoderLayer(\n",
       "          (self_attn): MultiHeadedAttention(\n",
       "            (linear_q): Linear(in_features=768, out_features=768, bias=True)\n",
       "            (linear_k): Linear(in_features=768, out_features=768, bias=True)\n",
       "            (linear_v): Linear(in_features=768, out_features=768, bias=True)\n",
       "            (linear_out): Linear(in_features=768, out_features=768, bias=True)\n",
       "            (dropout): Dropout(p=0.1, inplace=False)\n",
       "          )\n",
       "          (src_attn): MultiHeadedAttention(\n",
       "            (linear_q): Linear(in_features=768, out_features=768, bias=True)\n",
       "            (linear_k): Linear(in_features=768, out_features=768, bias=True)\n",
       "            (linear_v): Linear(in_features=768, out_features=768, bias=True)\n",
       "            (linear_out): Linear(in_features=768, out_features=768, bias=True)\n",
       "            (dropout): Dropout(p=0.1, inplace=False)\n",
       "          )\n",
       "          (feed_forward): PositionwiseFeedForward(\n",
       "            (w_1): Linear(in_features=768, out_features=3072, bias=True)\n",
       "            (w_2): Linear(in_features=3072, out_features=768, bias=True)\n",
       "            (dropout): Dropout(p=0.1, inplace=False)\n",
       "          )\n",
       "          (norm1): LayerNorm((768,), eps=1e-12, elementwise_affine=True)\n",
       "          (norm2): LayerNorm((768,), eps=1e-12, elementwise_affine=True)\n",
       "          (norm3): LayerNorm((768,), eps=1e-12, elementwise_affine=True)\n",
       "          (dropout): Dropout(p=0.1, inplace=False)\n",
       "        )\n",
       "        (2): DecoderLayer(\n",
       "          (self_attn): MultiHeadedAttention(\n",
       "            (linear_q): Linear(in_features=768, out_features=768, bias=True)\n",
       "            (linear_k): Linear(in_features=768, out_features=768, bias=True)\n",
       "            (linear_v): Linear(in_features=768, out_features=768, bias=True)\n",
       "            (linear_out): Linear(in_features=768, out_features=768, bias=True)\n",
       "            (dropout): Dropout(p=0.1, inplace=False)\n",
       "          )\n",
       "          (src_attn): MultiHeadedAttention(\n",
       "            (linear_q): Linear(in_features=768, out_features=768, bias=True)\n",
       "            (linear_k): Linear(in_features=768, out_features=768, bias=True)\n",
       "            (linear_v): Linear(in_features=768, out_features=768, bias=True)\n",
       "            (linear_out): Linear(in_features=768, out_features=768, bias=True)\n",
       "            (dropout): Dropout(p=0.1, inplace=False)\n",
       "          )\n",
       "          (feed_forward): PositionwiseFeedForward(\n",
       "            (w_1): Linear(in_features=768, out_features=3072, bias=True)\n",
       "            (w_2): Linear(in_features=3072, out_features=768, bias=True)\n",
       "            (dropout): Dropout(p=0.1, inplace=False)\n",
       "          )\n",
       "          (norm1): LayerNorm((768,), eps=1e-12, elementwise_affine=True)\n",
       "          (norm2): LayerNorm((768,), eps=1e-12, elementwise_affine=True)\n",
       "          (norm3): LayerNorm((768,), eps=1e-12, elementwise_affine=True)\n",
       "          (dropout): Dropout(p=0.1, inplace=False)\n",
       "        )\n",
       "        (3): DecoderLayer(\n",
       "          (self_attn): MultiHeadedAttention(\n",
       "            (linear_q): Linear(in_features=768, out_features=768, bias=True)\n",
       "            (linear_k): Linear(in_features=768, out_features=768, bias=True)\n",
       "            (linear_v): Linear(in_features=768, out_features=768, bias=True)\n",
       "            (linear_out): Linear(in_features=768, out_features=768, bias=True)\n",
       "            (dropout): Dropout(p=0.1, inplace=False)\n",
       "          )\n",
       "          (src_attn): MultiHeadedAttention(\n",
       "            (linear_q): Linear(in_features=768, out_features=768, bias=True)\n",
       "            (linear_k): Linear(in_features=768, out_features=768, bias=True)\n",
       "            (linear_v): Linear(in_features=768, out_features=768, bias=True)\n",
       "            (linear_out): Linear(in_features=768, out_features=768, bias=True)\n",
       "            (dropout): Dropout(p=0.1, inplace=False)\n",
       "          )\n",
       "          (feed_forward): PositionwiseFeedForward(\n",
       "            (w_1): Linear(in_features=768, out_features=3072, bias=True)\n",
       "            (w_2): Linear(in_features=3072, out_features=768, bias=True)\n",
       "            (dropout): Dropout(p=0.1, inplace=False)\n",
       "          )\n",
       "          (norm1): LayerNorm((768,), eps=1e-12, elementwise_affine=True)\n",
       "          (norm2): LayerNorm((768,), eps=1e-12, elementwise_affine=True)\n",
       "          (norm3): LayerNorm((768,), eps=1e-12, elementwise_affine=True)\n",
       "          (dropout): Dropout(p=0.1, inplace=False)\n",
       "        )\n",
       "        (4): DecoderLayer(\n",
       "          (self_attn): MultiHeadedAttention(\n",
       "            (linear_q): Linear(in_features=768, out_features=768, bias=True)\n",
       "            (linear_k): Linear(in_features=768, out_features=768, bias=True)\n",
       "            (linear_v): Linear(in_features=768, out_features=768, bias=True)\n",
       "            (linear_out): Linear(in_features=768, out_features=768, bias=True)\n",
       "            (dropout): Dropout(p=0.1, inplace=False)\n",
       "          )\n",
       "          (src_attn): MultiHeadedAttention(\n",
       "            (linear_q): Linear(in_features=768, out_features=768, bias=True)\n",
       "            (linear_k): Linear(in_features=768, out_features=768, bias=True)\n",
       "            (linear_v): Linear(in_features=768, out_features=768, bias=True)\n",
       "            (linear_out): Linear(in_features=768, out_features=768, bias=True)\n",
       "            (dropout): Dropout(p=0.1, inplace=False)\n",
       "          )\n",
       "          (feed_forward): PositionwiseFeedForward(\n",
       "            (w_1): Linear(in_features=768, out_features=3072, bias=True)\n",
       "            (w_2): Linear(in_features=3072, out_features=768, bias=True)\n",
       "            (dropout): Dropout(p=0.1, inplace=False)\n",
       "          )\n",
       "          (norm1): LayerNorm((768,), eps=1e-12, elementwise_affine=True)\n",
       "          (norm2): LayerNorm((768,), eps=1e-12, elementwise_affine=True)\n",
       "          (norm3): LayerNorm((768,), eps=1e-12, elementwise_affine=True)\n",
       "          (dropout): Dropout(p=0.1, inplace=False)\n",
       "        )\n",
       "        (5): DecoderLayer(\n",
       "          (self_attn): MultiHeadedAttention(\n",
       "            (linear_q): Linear(in_features=768, out_features=768, bias=True)\n",
       "            (linear_k): Linear(in_features=768, out_features=768, bias=True)\n",
       "            (linear_v): Linear(in_features=768, out_features=768, bias=True)\n",
       "            (linear_out): Linear(in_features=768, out_features=768, bias=True)\n",
       "            (dropout): Dropout(p=0.1, inplace=False)\n",
       "          )\n",
       "          (src_attn): MultiHeadedAttention(\n",
       "            (linear_q): Linear(in_features=768, out_features=768, bias=True)\n",
       "            (linear_k): Linear(in_features=768, out_features=768, bias=True)\n",
       "            (linear_v): Linear(in_features=768, out_features=768, bias=True)\n",
       "            (linear_out): Linear(in_features=768, out_features=768, bias=True)\n",
       "            (dropout): Dropout(p=0.1, inplace=False)\n",
       "          )\n",
       "          (feed_forward): PositionwiseFeedForward(\n",
       "            (w_1): Linear(in_features=768, out_features=3072, bias=True)\n",
       "            (w_2): Linear(in_features=3072, out_features=768, bias=True)\n",
       "            (dropout): Dropout(p=0.1, inplace=False)\n",
       "          )\n",
       "          (norm1): LayerNorm((768,), eps=1e-12, elementwise_affine=True)\n",
       "          (norm2): LayerNorm((768,), eps=1e-12, elementwise_affine=True)\n",
       "          (norm3): LayerNorm((768,), eps=1e-12, elementwise_affine=True)\n",
       "          (dropout): Dropout(p=0.1, inplace=False)\n",
       "        )\n",
       "      )\n",
       "      (after_norm): LayerNorm((768,), eps=1e-12, elementwise_affine=True)\n",
       "      (output_layer): Linear(in_features=768, out_features=5049, bias=True)\n",
       "    )\n",
       "    (criterion): LabelSmoothingLoss(\n",
       "      (criterion): KLDivLoss()\n",
       "    )\n",
       "    (ctc): CTC(\n",
       "      (ctc_lo): Linear(in_features=768, out_features=5049, bias=True)\n",
       "      (dropout): Dropout(p=0.1, inplace=False)\n",
       "      (ctc_loss): CTCLoss()\n",
       "    )\n",
       "  )\n",
       ")"
      ]
     },
     "execution_count": 6,
     "metadata": {},
     "output_type": "execute_result"
    }
   ],
   "source": [
    "def get_lightning_module(ckpt_path):\n",
    "    modelmodule = ModelModule()\n",
    "    modelmodule.model.load_state_dict(torch.load(ckpt_path, map_location=lambda storage, loc: storage))\n",
    "    return modelmodule\n",
    "\n",
    "\n",
    "ckpt_path = \"/data/home/antoni/code/generative-models/checkpoints/vsr_trlrs3_base.max400.pth\"\n",
    "model = get_lightning_module(ckpt_path)\n",
    "model.eval()"
   ]
  },
  {
   "cell_type": "code",
   "execution_count": null,
   "metadata": {},
   "outputs": [],
   "source": [
    "video_proccessed = video_process(video, landmarks, True, threshold=30)\n",
    "video_proccessed = torch.tensor(video_proccessed)\n",
    "video_proccessed = video_proccessed.permute((0, 3, 1, 2))\n",
    "video_proccessed, t = video_transform(video_proccessed)\n",
    "t"
   ]
  },
  {
   "cell_type": "code",
   "execution_count": null,
   "metadata": {},
   "outputs": [],
   "source": [
    "video_proccessed.max(), video_proccessed.min()"
   ]
  },
  {
   "cell_type": "code",
   "execution_count": 4,
   "metadata": {},
   "outputs": [
    {
     "data": {
      "image/jpeg": "[encoded data removed]",
      "image/png": "[encoded data removed]",
      "text/plain": [
       "<PIL.Image.Image image mode=L size=88x88>"
      ]
     },
     "metadata": {},
     "output_type": "display_data"
    },
    {
     "data": {
      "text/plain": [
       "'L'"
      ]
     },
     "metadata": {},
     "output_type": "display_data"
    },
    {
     "data": {
      "image/jpeg": "[encoded data removed]",
      "image/png": "[encoded data removed]",
      "text/plain": [
       "<PIL.Image.Image image mode=L size=88x88>"
      ]
     },
     "metadata": {},
     "output_type": "display_data"
    },
    {
     "data": {
      "text/plain": [
       "'L'"
      ]
     },
     "metadata": {},
     "output_type": "display_data"
    },
    {
     "data": {
      "image/jpeg": "[encoded data removed]",
      "image/png": "[encoded data removed]",
      "text/plain": [
       "<PIL.Image.Image image mode=L size=88x88>"
      ]
     },
     "metadata": {},
     "output_type": "display_data"
    },
    {
     "data": {
      "text/plain": [
       "'L'"
      ]
     },
     "metadata": {},
     "output_type": "display_data"
    },
    {
     "data": {
      "image/jpeg": "[encoded data removed]",
      "image/png": "[encoded data removed]",
      "text/plain": [
       "<PIL.Image.Image image mode=L size=88x88>"
      ]
     },
     "metadata": {},
     "output_type": "display_data"
    },
    {
     "data": {
      "text/plain": [
       "'L'"
      ]
     },
     "metadata": {},
     "output_type": "display_data"
    },
    {
     "data": {
      "image/jpeg": "[encoded data removed]",
      "image/png": "[encoded data removed]",
      "text/plain": [
       "<PIL.Image.Image image mode=L size=88x88>"
      ]
     },
     "metadata": {},
     "output_type": "display_data"
    },
    {
     "data": {
      "text/plain": [
       "'L'"
      ]
     },
     "metadata": {},
     "output_type": "display_data"
    },
    {
     "data": {
      "image/jpeg": "[encoded data removed]",
      "image/png": "[encoded data removed]",
      "text/plain": [
       "<PIL.Image.Image image mode=L size=88x88>"
      ]
     },
     "metadata": {},
     "output_type": "display_data"
    },
    {
     "data": {
      "text/plain": [
       "'L'"
      ]
     },
     "metadata": {},
     "output_type": "display_data"
    },
    {
     "data": {
      "image/jpeg": "[encoded data removed]",
      "image/png": "[encoded data removed]",
      "text/plain": [
       "<PIL.Image.Image image mode=L size=88x88>"
      ]
     },
     "metadata": {},
     "output_type": "display_data"
    },
    {
     "data": {
      "text/plain": [
       "'L'"
      ]
     },
     "metadata": {},
     "output_type": "display_data"
    },
    {
     "data": {
      "image/jpeg": "[encoded data removed]",
      "image/png": "[encoded data removed]",
      "text/plain": [
       "<PIL.Image.Image image mode=L size=88x88>"
      ]
     },
     "metadata": {},
     "output_type": "display_data"
    },
    {
     "data": {
      "text/plain": [
       "'L'"
      ]
     },
     "metadata": {},
     "output_type": "display_data"
    },
    {
     "data": {
      "image/jpeg": "[encoded data removed]",
      "image/png": "[encoded data removed]",
      "text/plain": [
       "<PIL.Image.Image image mode=L size=88x88>"
      ]
     },
     "metadata": {},
     "output_type": "display_data"
    },
    {
     "data": {
      "text/plain": [
       "'L'"
      ]
     },
     "metadata": {},
     "output_type": "display_data"
    },
    {
     "data": {
      "image/jpeg": "[encoded data removed]",
      "image/png": "[encoded data removed]",
      "text/plain": [
       "<PIL.Image.Image image mode=L size=88x88>"
      ]
     },
     "metadata": {},
     "output_type": "display_data"
    },
    {
     "data": {
      "text/plain": [
       "'L'"
      ]
     },
     "metadata": {},
     "output_type": "display_data"
    }
   ],
   "source": [
    "from PIL import Image\n",
    "\n",
    "# Display first 10 frames video\n",
    "for i in range(10):\n",
    "    pil_image = (video_proccessed[i].permute(1, 2, 0).numpy() * 255).astype(np.uint8)\n",
    "\n",
    "    display(Image.fromarray(pil_image.squeeze()), \"L\")"
   ]
  },
  {
   "cell_type": "code",
   "execution_count": 5,
   "metadata": {},
   "outputs": [
    {
     "ename": "NameError",
     "evalue": "name 'model' is not defined",
     "output_type": "error",
     "traceback": [
      "\u001b[0;31m---------------------------------------------------------------------------\u001b[0m",
      "\u001b[0;31mNameError\u001b[0m                                 Traceback (most recent call last)",
      "Cell \u001b[0;32mIn[5], line 1\u001b[0m\n\u001b[0;32m----> 1\u001b[0m model \u001b[38;5;241m=\u001b[39m \u001b[43mmodel\u001b[49m\u001b[38;5;241m.\u001b[39mto(\u001b[38;5;124m\"\u001b[39m\u001b[38;5;124mcpu\u001b[39m\u001b[38;5;124m\"\u001b[39m)\n\u001b[1;32m      2\u001b[0m \u001b[38;5;28;01mwith\u001b[39;00m torch\u001b[38;5;241m.\u001b[39mno_grad():\n\u001b[1;32m      3\u001b[0m     \u001b[38;5;28mprint\u001b[39m(model(video_proccessed[:\u001b[38;5;241m10\u001b[39m], extract_position\u001b[38;5;241m=\u001b[39m\u001b[38;5;124m\"\u001b[39m\u001b[38;5;124mconformer\u001b[39m\u001b[38;5;124m\"\u001b[39m)\u001b[38;5;241m.\u001b[39mshape)\n",
      "\u001b[0;31mNameError\u001b[0m: name 'model' is not defined"
     ]
    }
   ],
   "source": [
    "model = model.to(\"cpu\")\n",
    "with torch.no_grad():\n",
    "    print(model(video_proccessed[:10], extract_position=\"conformer\").shape)"
   ]
  },
  {
   "cell_type": "code",
   "execution_count": 7,
   "metadata": {},
   "outputs": [
    {
     "name": "stdout",
     "output_type": "stream",
     "text": [
      "SYSTEM\n"
     ]
    }
   ],
   "source": [
    "model = model\n",
    "duration = 15\n",
    "\n",
    "\n",
    "with torch.no_grad():\n",
    "    input = video_proccessed[: 25 * duration]\n",
    "\n",
    "    pred_noise = model(input.to(torch.float32), t=None)\n",
    "    print(pred_noise)\n",
    "\n",
    "    # pred = model(input, t=None)\n",
    "    # print(pred)"
   ]
  },
  {
   "cell_type": "code",
   "execution_count": null,
   "metadata": {},
   "outputs": [],
   "source": [
    "import torchaudio\n",
    "\n",
    "\n",
    "def compute_word_level_distance(seq1, seq2):\n",
    "    return torchaudio.functional.edit_distance(seq1.lower().split(), seq2.lower().split())"
   ]
  },
  {
   "cell_type": "code",
   "execution_count": null,
   "metadata": {},
   "outputs": [],
   "source": []
  }
 ],
 "metadata": {
  "kernelspec": {
   "display_name": "svd",
   "language": "python",
   "name": "python3"
  },
  "language_info": {
   "codemirror_mode": {
    "name": "ipython",
    "version": 3
   },
   "file_extension": ".py",
   "mimetype": "text/x-python",
   "name": "python",
   "nbconvert_exporter": "python",
   "pygments_lexer": "ipython3",
   "version": "3.10.13"
  }
 },
 "nbformat": 4,
 "nbformat_minor": 2
}
