{
 "cells": [
  {
   "cell_type": "code",
   "execution_count": null,
   "metadata": {},
   "outputs": [],
   "source": [
    "import sys\n",
    "\n",
    "sys.path.append(\"../\")\n",
    "from sgm.modules.lipreader.lightnining import ModelModule\n",
    "import torch\n",
    "\n",
    "\n",
    "def get_lightning_module(ckpt_path):\n",
    "    modelmodule = ModelModule()\n",
    "    modelmodule.model.load_state_dict(torch.load(ckpt_path, map_location=lambda storage, loc: storage))\n",
    "    return modelmodule\n",
    "\n",
    "\n",
    "ckpt_path = \"/vol/paramonos2/projects/antoni/code/Personal/lipreader/models/vsr_trlrs3_base.max400.pth\"\n",
    "model = get_lightning_module(ckpt_path)\n",
    "model.eval()"
   ]
  },
  {
   "cell_type": "code",
   "execution_count": 1,
   "metadata": {},
   "outputs": [
    {
     "name": "stderr",
     "output_type": "stream",
     "text": [
      "/vol/paramonos2/projects/antoni/miniconda3/envs/svd/lib/python3.10/site-packages/tqdm/auto.py:21: TqdmWarning: IProgress not found. Please update jupyter and ipywidgets. See https://ipywidgets.readthedocs.io/en/stable/user_install.html\n",
      "  from .autonotebook import tqdm as notebook_tqdm\n"
     ]
    },
    {
     "name": "stdout",
     "output_type": "stream",
     "text": [
      "(1825, 64, 64, 3)\n"
     ]
    }
   ],
   "source": [
    "import sys\n",
    "\n",
    "sys.path.append(\"../\")\n",
    "import numpy as np\n",
    "import torch\n",
    "import torchvision\n",
    "from sgm.modules.lipreader.preparation.detectors.retinaface.video_process import VideoProcess\n",
    "from sgm.modules.lipreader.datamodule.transforms import VideoTransform\n",
    "\n",
    "video_transform = VideoTransform(subset=\"val\", max_noise_level=250, center_crop_size=11)\n",
    "video_process = VideoProcess(\n",
    "    convert_gray=False, crop_width=96 // 8, crop_height=96 // 8, reference_size=(64, 64), target_size=(64, 64)\n",
    ")\n",
    "video_path = \"/data2/Datasets/HDTF/cropped_videos_original/RD_Radio18_000.mp4\"\n",
    "video = torchvision.io.read_video(video_path, pts_unit=\"sec\", output_format=\"TCHW\")[0]\n",
    "or_shape = video.shape[-2:]\n",
    "video = torch.nn.functional.interpolate(video, size=(64, 64)).permute(0, 2, 3, 1).numpy()\n",
    "print(video.shape)\n",
    "landmarks = np.load(\"/data2/Datasets/HDTF/cropped_videos_original/RD_Radio18_000.npy\")"
   ]
  },
  {
   "cell_type": "code",
   "execution_count": 14,
   "metadata": {},
   "outputs": [
    {
     "name": "stdout",
     "output_type": "stream",
     "text": [
      "4.0 3.0 5.0 4.0\n",
      "-6.0 15.0 -7.0 14.0\n"
     ]
    }
   ],
   "source": [
    "pad = 10\n",
    "xmouthpoints = (crop // 8)[48:67, 0]\n",
    "ymouthpoints = (crop // 8)[48:67, 1]\n",
    "maxx = np.max(xmouthpoints)\n",
    "minx = np.min(xmouthpoints)\n",
    "maxy = np.max(ymouthpoints)\n",
    "miny = np.min(ymouthpoints)\n",
    "print(maxx, minx, maxy, miny)\n",
    "print(miny - pad, maxy + pad, minx - pad, maxx + pad)"
   ]
  },
  {
   "cell_type": "code",
   "execution_count": 3,
   "metadata": {},
   "outputs": [],
   "source": [
    "_, crop = video_process.crop_patch(video, landmarks, return_bbox=True, threshold=30)"
   ]
  },
  {
   "cell_type": "code",
   "execution_count": 4,
   "metadata": {},
   "outputs": [
    {
     "data": {
      "text/plain": [
       "array([[33, 45, 26, 38],\n",
       "       [33, 45, 26, 38],\n",
       "       [33, 45, 27, 39],\n",
       "       ...,\n",
       "       [33, 45, 26, 38],\n",
       "       [33, 45, 26, 38],\n",
       "       [33, 45, 26, 38]])"
      ]
     },
     "execution_count": 4,
     "metadata": {},
     "output_type": "execute_result"
    }
   ],
   "source": [
    "crop"
   ]
  },
  {
   "cell_type": "code",
   "execution_count": 2,
   "metadata": {},
   "outputs": [],
   "source": [
    "from sgm.data.data_utils import scale_landmarks\n",
    "\n",
    "landmarks = scale_landmarks(landmarks, (or_shape[0], or_shape[1]), (64, 64))"
   ]
  },
  {
   "cell_type": "code",
   "execution_count": 7,
   "metadata": {},
   "outputs": [
    {
     "data": {
      "text/plain": [
       "12"
      ]
     },
     "execution_count": 7,
     "metadata": {},
     "output_type": "execute_result"
    }
   ],
   "source": [
    "96 // 8"
   ]
  },
  {
   "cell_type": "code",
   "execution_count": 15,
   "metadata": {},
   "outputs": [
    {
     "data": {
      "text/plain": [
       "tensor([0])"
      ]
     },
     "execution_count": 15,
     "metadata": {},
     "output_type": "execute_result"
    }
   ],
   "source": [
    "video_proccessed = video_process(video, landmarks, True, threshold=30)\n",
    "video_proccessed = torch.tensor(video_proccessed)\n",
    "video_proccessed = video_proccessed.permute((0, 3, 1, 2))\n",
    "video_proccessed, t = video_transform(video_proccessed)\n",
    "t"
   ]
  },
  {
   "cell_type": "code",
   "execution_count": 5,
   "metadata": {},
   "outputs": [
    {
     "data": {
      "text/plain": [
       "(torch.Size([1825, 1, 11, 11]), tensor([0]))"
      ]
     },
     "execution_count": 5,
     "metadata": {},
     "output_type": "execute_result"
    }
   ],
   "source": [
    "video_proccessed.shape, t"
   ]
  },
  {
   "cell_type": "code",
   "execution_count": 16,
   "metadata": {},
   "outputs": [
    {
     "data": {
      "image/jpeg": "[encoded data removed]",
      "image/png": "[encoded data removed]",
      "text/plain": [
       "<PIL.Image.Image image mode=L size=11x11>"
      ]
     },
     "metadata": {},
     "output_type": "display_data"
    },
    {
     "data": {
      "text/plain": [
       "'L'"
      ]
     },
     "metadata": {},
     "output_type": "display_data"
    },
    {
     "data": {
      "image/jpeg": "[encoded data removed]",
      "image/png": "[encoded data removed]",
      "text/plain": [
       "<PIL.Image.Image image mode=L size=11x11>"
      ]
     },
     "metadata": {},
     "output_type": "display_data"
    },
    {
     "data": {
      "text/plain": [
       "'L'"
      ]
     },
     "metadata": {},
     "output_type": "display_data"
    },
    {
     "data": {
      "image/jpeg": "[encoded data removed]",
      "image/png": "[encoded data removed]",
      "text/plain": [
       "<PIL.Image.Image image mode=L size=11x11>"
      ]
     },
     "metadata": {},
     "output_type": "display_data"
    },
    {
     "data": {
      "text/plain": [
       "'L'"
      ]
     },
     "metadata": {},
     "output_type": "display_data"
    },
    {
     "data": {
      "image/jpeg": "[encoded data removed]",
      "image/png": "[encoded data removed]",
      "text/plain": [
       "<PIL.Image.Image image mode=L size=11x11>"
      ]
     },
     "metadata": {},
     "output_type": "display_data"
    },
    {
     "data": {
      "text/plain": [
       "'L'"
      ]
     },
     "metadata": {},
     "output_type": "display_data"
    },
    {
     "data": {
      "image/jpeg": "[encoded data removed]",
      "image/png": "[encoded data removed]",
      "text/plain": [
       "<PIL.Image.Image image mode=L size=11x11>"
      ]
     },
     "metadata": {},
     "output_type": "display_data"
    },
    {
     "data": {
      "text/plain": [
       "'L'"
      ]
     },
     "metadata": {},
     "output_type": "display_data"
    },
    {
     "data": {
      "image/jpeg": "[encoded data removed]",
      "image/png": "[encoded data removed]",
      "text/plain": [
       "<PIL.Image.Image image mode=L size=11x11>"
      ]
     },
     "metadata": {},
     "output_type": "display_data"
    },
    {
     "data": {
      "text/plain": [
       "'L'"
      ]
     },
     "metadata": {},
     "output_type": "display_data"
    },
    {
     "data": {
      "image/jpeg": "[encoded data removed]",
      "image/png": "[encoded data removed]",
      "text/plain": [
       "<PIL.Image.Image image mode=L size=11x11>"
      ]
     },
     "metadata": {},
     "output_type": "display_data"
    },
    {
     "data": {
      "text/plain": [
       "'L'"
      ]
     },
     "metadata": {},
     "output_type": "display_data"
    },
    {
     "data": {
      "image/jpeg": "[encoded data removed]",
      "image/png": "[encoded data removed]",
      "text/plain": [
       "<PIL.Image.Image image mode=L size=11x11>"
      ]
     },
     "metadata": {},
     "output_type": "display_data"
    },
    {
     "data": {
      "text/plain": [
       "'L'"
      ]
     },
     "metadata": {},
     "output_type": "display_data"
    },
    {
     "data": {
      "image/jpeg": "[encoded data removed]",
      "image/png": "[encoded data removed]",
      "text/plain": [
       "<PIL.Image.Image image mode=L size=11x11>"
      ]
     },
     "metadata": {},
     "output_type": "display_data"
    },
    {
     "data": {
      "text/plain": [
       "'L'"
      ]
     },
     "metadata": {},
     "output_type": "display_data"
    },
    {
     "data": {
      "image/jpeg": "[encoded data removed]",
      "image/png": "[encoded data removed]",
      "text/plain": [
       "<PIL.Image.Image image mode=L size=11x11>"
      ]
     },
     "metadata": {},
     "output_type": "display_data"
    },
    {
     "data": {
      "text/plain": [
       "'L'"
      ]
     },
     "metadata": {},
     "output_type": "display_data"
    }
   ],
   "source": [
    "from PIL import Image\n",
    "\n",
    "# Display first 10 frames video\n",
    "for i in range(10):\n",
    "    pil_image = (video_proccessed[i].permute(1, 2, 0).numpy() * 255).astype(np.uint8)\n",
    "\n",
    "    display(Image.fromarray(pil_image.squeeze()), \"L\")"
   ]
  },
  {
   "cell_type": "code",
   "execution_count": null,
   "metadata": {},
   "outputs": [],
   "source": [
    "model = model.to(\"cuda\")\n",
    "with torch.no_grad():\n",
    "    print(model(video_proccessed[:250].cuda(), extract_position=\"conformer\").shape)"
   ]
  },
  {
   "cell_type": "code",
   "execution_count": null,
   "metadata": {},
   "outputs": [],
   "source": [
    "model = model.to(\"cuda\")\n",
    "duration = 15\n",
    "\n",
    "\n",
    "with torch.no_grad():\n",
    "    input = video_proccessed[: 25 * duration].cuda()\n",
    "\n",
    "    pred_noise = model(input, t=t.cuda())\n",
    "    print(pred_noise)\n",
    "\n",
    "    pred = model(input, t=None)\n",
    "    print(pred)"
   ]
  },
  {
   "cell_type": "code",
   "execution_count": null,
   "metadata": {},
   "outputs": [],
   "source": [
    "import torchaudio\n",
    "\n",
    "\n",
    "def compute_word_level_distance(seq1, seq2):\n",
    "    return torchaudio.functional.edit_distance(seq1.lower().split(), seq2.lower().split())"
   ]
  },
  {
   "cell_type": "code",
   "execution_count": null,
   "metadata": {},
   "outputs": [],
   "source": []
  }
 ],
 "metadata": {
  "kernelspec": {
   "display_name": "svd",
   "language": "python",
   "name": "python3"
  },
  "language_info": {
   "codemirror_mode": {
    "name": "ipython",
    "version": 3
   },
   "file_extension": ".py",
   "mimetype": "text/x-python",
   "name": "python",
   "nbconvert_exporter": "python",
   "pygments_lexer": "ipython3",
   "version": "3.10.13"
  }
 },
 "nbformat": 4,
 "nbformat_minor": 2
}
