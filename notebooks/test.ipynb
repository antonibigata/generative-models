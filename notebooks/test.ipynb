{
 "cells": [
  {
   "cell_type": "code",
   "execution_count": 5,
   "metadata": {},
   "outputs": [
    {
     "name": "stdout",
     "output_type": "stream",
     "text": [
      "[427, 428, 429, 430, 431, 432, 433, 434, 435, 436, 437, 438, 439, 440]\n"
     ]
    }
   ],
   "source": [
    "import random\n",
    "\n",
    "\n",
    "class VideoSampler:\n",
    "    def __init__(self, total_video_frames):\n",
    "        self.total_video_frames = total_video_frames\n",
    "\n",
    "    def get_frame_indices(self, num_frames=14, skip_frames=12):\n",
    "        # Calculate the maximum possible start index\n",
    "        max_start_idx = self.total_video_frames - ((num_frames - 1) * (skip_frames + 1) + 1)\n",
    "\n",
    "        # Generate a random start index\n",
    "        if max_start_idx > 0:\n",
    "            start_idx = random.randint(0, max_start_idx)\n",
    "        else:\n",
    "            raise ValueError(\"Not enough frames in the video to sample with given parameters.\")\n",
    "\n",
    "        # Generate the indices\n",
    "        indexes = [start_idx + i * (skip_frames + 1) for i in range(num_frames)]\n",
    "\n",
    "        return indexes\n",
    "\n",
    "\n",
    "# Usage example:\n",
    "total_frames = 1000  # Total number of frames in the video\n",
    "sampler = VideoSampler(total_frames)\n",
    "sampled_indices = sampler.get_frame_indices(skip_frames=0)\n",
    "print(sampled_indices)"
   ]
  },
  {
   "cell_type": "code",
   "execution_count": 6,
   "metadata": {},
   "outputs": [
    {
     "data": {
      "text/plain": [
       "0"
      ]
     },
     "execution_count": 6,
     "metadata": {},
     "output_type": "execute_result"
    }
   ],
   "source": [
    "import numpy as np\n",
    "\n",
    "np.random.randint(0, 10)"
   ]
  },
  {
   "cell_type": "code",
   "execution_count": 3,
   "metadata": {},
   "outputs": [
    {
     "data": {
      "text/plain": [
       "[69, 70, 71, 72, 73, 74, 75, 76, 77, 78, 79, 80, 81, 82]"
      ]
     },
     "execution_count": 3,
     "metadata": {},
     "output_type": "execute_result"
    }
   ],
   "source": [
    "list(range(69, 69 + 14))"
   ]
  }
 ],
 "metadata": {
  "kernelspec": {
   "display_name": "svd",
   "language": "python",
   "name": "python3"
  },
  "language_info": {
   "codemirror_mode": {
    "name": "ipython",
    "version": 3
   },
   "file_extension": ".py",
   "mimetype": "text/x-python",
   "name": "python",
   "nbconvert_exporter": "python",
   "pygments_lexer": "ipython3",
   "version": "3.10.13"
  }
 },
 "nbformat": 4,
 "nbformat_minor": 2
}
